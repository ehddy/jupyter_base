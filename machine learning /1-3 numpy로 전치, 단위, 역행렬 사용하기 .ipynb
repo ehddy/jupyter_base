{
 "cells": [
  {
   "cell_type": "code",
   "execution_count": 1,
   "id": "a04e8927",
   "metadata": {},
   "outputs": [],
   "source": [
    "import numpy as np"
   ]
  },
  {
   "cell_type": "code",
   "execution_count": 2,
   "id": "f6f716e7",
   "metadata": {},
   "outputs": [],
   "source": [
    "A = np.array([\n",
    "    [1, -1, 2],\n",
    "    [3, 2, 2],\n",
    "    [4, 1, 2]\n",
    "])"
   ]
  },
  {
   "cell_type": "code",
   "execution_count": 3,
   "id": "6cb0bc1a",
   "metadata": {},
   "outputs": [
    {
     "data": {
      "text/plain": [
       "array([[ 1, -1,  2],\n",
       "       [ 3,  2,  2],\n",
       "       [ 4,  1,  2]])"
      ]
     },
     "execution_count": 3,
     "metadata": {},
     "output_type": "execute_result"
    }
   ],
   "source": [
    "A"
   ]
  },
  {
   "cell_type": "code",
   "execution_count": 4,
   "id": "7ff36e1c",
   "metadata": {},
   "outputs": [
    {
     "data": {
      "text/plain": [
       "array([[ 1,  3,  4],\n",
       "       [-1,  2,  1],\n",
       "       [ 2,  2,  2]])"
      ]
     },
     "execution_count": 4,
     "metadata": {},
     "output_type": "execute_result"
    }
   ],
   "source": [
    "A_transpose = np.transpose(A)\n",
    "A_transpose # 전치행렬"
   ]
  },
  {
   "cell_type": "code",
   "execution_count": 5,
   "id": "5543034d",
   "metadata": {},
   "outputs": [
    {
     "data": {
      "text/plain": [
       "array([[ 1,  3,  4],\n",
       "       [-1,  2,  1],\n",
       "       [ 2,  2,  2]])"
      ]
     },
     "execution_count": 5,
     "metadata": {},
     "output_type": "execute_result"
    }
   ],
   "source": [
    "A.T #더 간단한 방법"
   ]
  },
  {
   "cell_type": "code",
   "execution_count": 6,
   "id": "b627bf66",
   "metadata": {},
   "outputs": [],
   "source": [
    "I = np.identity(3) # 단위행렬 만들어주기 "
   ]
  },
  {
   "cell_type": "code",
   "execution_count": 7,
   "id": "e872b394",
   "metadata": {},
   "outputs": [
    {
     "data": {
      "text/plain": [
       "array([[1., 0., 0.],\n",
       "       [0., 1., 0.],\n",
       "       [0., 0., 1.]])"
      ]
     },
     "execution_count": 7,
     "metadata": {},
     "output_type": "execute_result"
    }
   ],
   "source": [
    "I"
   ]
  },
  {
   "cell_type": "code",
   "execution_count": 8,
   "id": "5d47c8fb",
   "metadata": {},
   "outputs": [
    {
     "data": {
      "text/plain": [
       "array([[ 1., -1.,  2.],\n",
       "       [ 3.,  2.,  2.],\n",
       "       [ 4.,  1.,  2.]])"
      ]
     },
     "execution_count": 8,
     "metadata": {},
     "output_type": "execute_result"
    }
   ],
   "source": [
    "A @ I"
   ]
  },
  {
   "cell_type": "code",
   "execution_count": 9,
   "id": "295ba0d6",
   "metadata": {},
   "outputs": [
    {
     "data": {
      "text/plain": [
       "array([[-0.2, -0.4,  0.6],\n",
       "       [-0.2,  0.6, -0.4],\n",
       "       [ 0.5,  0.5, -0.5]])"
      ]
     },
     "execution_count": 9,
     "metadata": {},
     "output_type": "execute_result"
    }
   ],
   "source": [
    "np.linalg.pinv(A) # 역행렬 "
   ]
  },
  {
   "cell_type": "code",
   "execution_count": 10,
   "id": "60c3a8a7",
   "metadata": {},
   "outputs": [
    {
     "data": {
      "text/plain": [
       "array([[-0.2, -0.4,  0.6],\n",
       "       [-0.2,  0.6, -0.4],\n",
       "       [ 0.5,  0.5, -0.5]])"
      ]
     },
     "execution_count": 10,
     "metadata": {},
     "output_type": "execute_result"
    }
   ],
   "source": [
    "A_inverse = np.linalg.pinv(A)\n",
    "A_inverse"
   ]
  },
  {
   "cell_type": "code",
   "execution_count": 11,
   "id": "33a4d40d",
   "metadata": {},
   "outputs": [
    {
     "data": {
      "text/plain": [
       "array([[ 1.00000000e+00,  5.55111512e-16, -8.88178420e-16],\n",
       "       [ 0.00000000e+00,  1.00000000e+00, -8.88178420e-16],\n",
       "       [ 2.22044605e-16,  2.22044605e-16,  1.00000000e+00]])"
      ]
     },
     "execution_count": 11,
     "metadata": {},
     "output_type": "execute_result"
    }
   ],
   "source": [
    "A @ A_inverse # "
   ]
  },
  {
   "cell_type": "code",
   "execution_count": null,
   "id": "bc7a2c97",
   "metadata": {},
   "outputs": [],
   "source": []
  }
 ],
 "metadata": {
  "kernelspec": {
   "display_name": "Python 3",
   "language": "python",
   "name": "python3"
  },
  "language_info": {
   "codemirror_mode": {
    "name": "ipython",
    "version": 3
   },
   "file_extension": ".py",
   "mimetype": "text/x-python",
   "name": "python",
   "nbconvert_exporter": "python",
   "pygments_lexer": "ipython3",
   "version": "3.8.8"
  }
 },
 "nbformat": 4,
 "nbformat_minor": 5
}
