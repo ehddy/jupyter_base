{
 "cells": [
  {
   "cell_type": "code",
   "execution_count": 1,
   "id": "9add5407",
   "metadata": {},
   "outputs": [],
   "source": [
    "import numpy as np"
   ]
  },
  {
   "cell_type": "code",
   "execution_count": 2,
   "id": "e75392fe",
   "metadata": {},
   "outputs": [],
   "source": [
    "array1 = np.array([14, 6, 13, 21, 31, 9, 5])"
   ]
  },
  {
   "cell_type": "code",
   "execution_count": 3,
   "id": "e00bc10f",
   "metadata": {},
   "outputs": [
    {
     "name": "stdout",
     "output_type": "stream",
     "text": [
      "31\n"
     ]
    }
   ],
   "source": [
    "print(array1.max())"
   ]
  },
  {
   "cell_type": "markdown",
   "id": "26c2cdff",
   "metadata": {},
   "source": [
    "`max`메소드와 `min`메소드를 사용할 수 있음"
   ]
  },
  {
   "cell_type": "code",
   "execution_count": 4,
   "id": "803faf96",
   "metadata": {},
   "outputs": [
    {
     "name": "stdout",
     "output_type": "stream",
     "text": [
      "5\n"
     ]
    }
   ],
   "source": [
    "print(array1.min())"
   ]
  },
  {
   "cell_type": "code",
   "execution_count": 5,
   "id": "0edaf37f",
   "metadata": {},
   "outputs": [
    {
     "name": "stdout",
     "output_type": "stream",
     "text": [
      "14.142857142857142\n"
     ]
    }
   ],
   "source": [
    "print(array1.mean())"
   ]
  },
  {
   "cell_type": "markdown",
   "id": "9d4fe253",
   "metadata": {},
   "source": [
    "`mean` 메소드를 사용하여 평균값 구할 수 있음 "
   ]
  },
  {
   "cell_type": "code",
   "execution_count": 6,
   "id": "500f607a",
   "metadata": {},
   "outputs": [],
   "source": [
    "array1 = np.array([8, 12, 9, 15, 16])\n",
    "array2 = np.array([14, 6, 13, 21, 23, 31, 9 , 5])"
   ]
  },
  {
   "cell_type": "code",
   "execution_count": 8,
   "id": "6cf40d41",
   "metadata": {},
   "outputs": [
    {
     "name": "stdout",
     "output_type": "stream",
     "text": [
      "12.0\n",
      "13.5\n"
     ]
    }
   ],
   "source": [
    "print(np.median(array1))\n",
    "print(np.median(array2))"
   ]
  },
  {
   "cell_type": "markdown",
   "id": "5367c39d",
   "metadata": {},
   "source": [
    "`median` 메소드를 사용하면 중간값을 구할 수 있음  \n",
    "특이하게 `median`은 numpy array 메소드가 아니라 __numpy 메소드__ "
   ]
  },
  {
   "cell_type": "code",
   "execution_count": 9,
   "id": "7eff23a2",
   "metadata": {},
   "outputs": [],
   "source": [
    "array1 = np.array([14, 6, 13, 21, 23, 31, 9, 5])"
   ]
  },
  {
   "cell_type": "code",
   "execution_count": 12,
   "id": "937bc4d4",
   "metadata": {},
   "outputs": [
    {
     "name": "stdout",
     "output_type": "stream",
     "text": [
      "8.496322733983215\n",
      "72.1875\n"
     ]
    }
   ],
   "source": [
    "print(array1.std()) # 표준 편차\n",
    "print(array1.var()) #  분산"
   ]
  },
  {
   "cell_type": "code",
   "execution_count": null,
   "id": "a1452f45",
   "metadata": {},
   "outputs": [],
   "source": []
  }
 ],
 "metadata": {
  "kernelspec": {
   "display_name": "Python 3",
   "language": "python",
   "name": "python3"
  },
  "language_info": {
   "codemirror_mode": {
    "name": "ipython",
    "version": 3
   },
   "file_extension": ".py",
   "mimetype": "text/x-python",
   "name": "python",
   "nbconvert_exporter": "python",
   "pygments_lexer": "ipython3",
   "version": "3.8.8"
  }
 },
 "nbformat": 4,
 "nbformat_minor": 5
}
