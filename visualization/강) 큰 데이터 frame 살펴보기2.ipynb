{
 "cells": [
  {
   "cell_type": "code",
   "execution_count": 1,
   "id": "a7f2503b",
   "metadata": {},
   "outputs": [],
   "source": [
    "import pandas as pd"
   ]
  },
  {
   "cell_type": "code",
   "execution_count": 2,
   "id": "1be8774a",
   "metadata": {},
   "outputs": [],
   "source": [
    "df = pd.read_csv('./laptops.csv')"
   ]
  },
  {
   "cell_type": "markdown",
   "id": "76497524",
   "metadata": {},
   "source": [
    "큰 **Series** 살펴보자 "
   ]
  },
  {
   "cell_type": "code",
   "execution_count": 4,
   "id": "a6391e46",
   "metadata": {},
   "outputs": [
    {
     "data": {
      "text/plain": [
       "array(['Dell', 'Apple', 'Acer', 'HP', 'Lenovo', 'Alienware', 'Microsoft',\n",
       "       'Asus'], dtype=object)"
      ]
     },
     "execution_count": 4,
     "metadata": {},
     "output_type": "execute_result"
    }
   ],
   "source": [
    "df['brand'].unique() # 겹치는 low를 요약해줌 "
   ]
  },
  {
   "cell_type": "code",
   "execution_count": 10,
   "id": "875ad898",
   "metadata": {},
   "outputs": [
    {
     "data": {
      "text/plain": [
       "HP           55\n",
       "Acer         35\n",
       "Dell         31\n",
       "Lenovo       18\n",
       "Asus          9\n",
       "Apple         7\n",
       "Microsoft     6\n",
       "Alienware     6\n",
       "Name: brand, dtype: int64"
      ]
     },
     "execution_count": 10,
     "metadata": {},
     "output_type": "execute_result"
    }
   ],
   "source": [
    "df['brand'].value_counts() # 각 low의 요소가 몇개가 있는지 series로 나타냄 "
   ]
  },
  {
   "cell_type": "code",
   "execution_count": 6,
   "id": "b281f902",
   "metadata": {},
   "outputs": [
    {
     "data": {
      "text/plain": [
       "count     167\n",
       "unique      8\n",
       "top        HP\n",
       "freq       55\n",
       "Name: brand, dtype: object"
      ]
     },
     "execution_count": 6,
     "metadata": {},
     "output_type": "execute_result"
    }
   ],
   "source": [
    "df['brand'].describe() # 요약본이 나옴 "
   ]
  },
  {
   "cell_type": "code",
   "execution_count": null,
   "id": "b8959865",
   "metadata": {},
   "outputs": [],
   "source": []
  }
 ],
 "metadata": {
  "kernelspec": {
   "display_name": "Python 3",
   "language": "python",
   "name": "python3"
  },
  "language_info": {
   "codemirror_mode": {
    "name": "ipython",
    "version": 3
   },
   "file_extension": ".py",
   "mimetype": "text/x-python",
   "name": "python",
   "nbconvert_exporter": "python",
   "pygments_lexer": "ipython3",
   "version": "3.8.8"
  }
 },
 "nbformat": 4,
 "nbformat_minor": 5
}
