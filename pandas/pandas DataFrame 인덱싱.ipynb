{
 "cells": [
  {
   "cell_type": "code",
   "execution_count": 1,
   "id": "31cf6995",
   "metadata": {},
   "outputs": [],
   "source": [
    "import numpy as np\n",
    "import pandas as pd \n",
    "data = {'name': ['dongyo', 'ara', 'hoon', 'jameng', 'hoon'],\n",
    "       'year': [2014, 2015, 2016, 2017, 2018],\n",
    "       'point': [1.5, 1.7, 3.6, 2.4, 2.9]}\n",
    "\n",
    "df = pd.DataFrame(data, columns = ['name', 'year', 'point', 'penalty'], index = ['one', 'two', 'threes', 'four', 'five'])\n"
   ]
  },
  {
   "cell_type": "code",
   "execution_count": 2,
   "id": "324bf820",
   "metadata": {},
   "outputs": [
    {
     "data": {
      "text/html": [
       "<div>\n",
       "<style scoped>\n",
       "    .dataframe tbody tr th:only-of-type {\n",
       "        vertical-align: middle;\n",
       "    }\n",
       "\n",
       "    .dataframe tbody tr th {\n",
       "        vertical-align: top;\n",
       "    }\n",
       "\n",
       "    .dataframe thead th {\n",
       "        text-align: right;\n",
       "    }\n",
       "</style>\n",
       "<table border=\"1\" class=\"dataframe\">\n",
       "  <thead>\n",
       "    <tr style=\"text-align: right;\">\n",
       "      <th></th>\n",
       "      <th>name</th>\n",
       "      <th>year</th>\n",
       "      <th>point</th>\n",
       "      <th>penalty</th>\n",
       "    </tr>\n",
       "  </thead>\n",
       "  <tbody>\n",
       "    <tr>\n",
       "      <th>one</th>\n",
       "      <td>dongyo</td>\n",
       "      <td>2014</td>\n",
       "      <td>1.5</td>\n",
       "      <td>NaN</td>\n",
       "    </tr>\n",
       "    <tr>\n",
       "      <th>two</th>\n",
       "      <td>ara</td>\n",
       "      <td>2015</td>\n",
       "      <td>1.7</td>\n",
       "      <td>NaN</td>\n",
       "    </tr>\n",
       "    <tr>\n",
       "      <th>threes</th>\n",
       "      <td>hoon</td>\n",
       "      <td>2016</td>\n",
       "      <td>3.6</td>\n",
       "      <td>NaN</td>\n",
       "    </tr>\n",
       "    <tr>\n",
       "      <th>four</th>\n",
       "      <td>jameng</td>\n",
       "      <td>2017</td>\n",
       "      <td>2.4</td>\n",
       "      <td>NaN</td>\n",
       "    </tr>\n",
       "    <tr>\n",
       "      <th>five</th>\n",
       "      <td>hoon</td>\n",
       "      <td>2018</td>\n",
       "      <td>2.9</td>\n",
       "      <td>NaN</td>\n",
       "    </tr>\n",
       "  </tbody>\n",
       "</table>\n",
       "</div>"
      ],
      "text/plain": [
       "          name  year  point penalty\n",
       "one     dongyo  2014    1.5     NaN\n",
       "two        ara  2015    1.7     NaN\n",
       "threes    hoon  2016    3.6     NaN\n",
       "four    jameng  2017    2.4     NaN\n",
       "five      hoon  2018    2.9     NaN"
      ]
     },
     "execution_count": 2,
     "metadata": {},
     "output_type": "execute_result"
    }
   ],
   "source": [
    "df\n"
   ]
  },
  {
   "cell_type": "markdown",
   "id": "7eba8d43",
   "metadata": {},
   "source": [
    "#### DataFrame의 열을 선택(인덱싱)하고 조작하기"
   ]
  },
  {
   "cell_type": "code",
   "execution_count": 3,
   "id": "0cb52fc0",
   "metadata": {},
   "outputs": [
    {
     "data": {
      "text/plain": [
       "one       2014\n",
       "two       2015\n",
       "threes    2016\n",
       "four      2017\n",
       "five      2018\n",
       "Name: year, dtype: int64"
      ]
     },
     "execution_count": 3,
     "metadata": {},
     "output_type": "execute_result"
    }
   ],
   "source": [
    "df['year'] #df[\"컬럼이름\"]"
   ]
  },
  {
   "cell_type": "code",
   "execution_count": 4,
   "id": "671a081a",
   "metadata": {},
   "outputs": [
    {
     "data": {
      "text/plain": [
       "one       2014\n",
       "two       2015\n",
       "threes    2016\n",
       "four      2017\n",
       "five      2018\n",
       "Name: year, dtype: int64"
      ]
     },
     "execution_count": 4,
     "metadata": {},
     "output_type": "execute_result"
    }
   ],
   "source": [
    "df.year # df.컬럼이름 "
   ]
  },
  {
   "cell_type": "markdown",
   "id": "47f44a45",
   "metadata": {},
   "source": [
    "`하나의 열`을 가져온 결과는 **Series의 모양**"
   ]
  },
  {
   "cell_type": "markdown",
   "id": "9459d97b",
   "metadata": {},
   "source": [
    "#### 2개 이상의 열을 가져오는 방법"
   ]
  },
  {
   "cell_type": "code",
   "execution_count": 5,
   "id": "5c6a3829",
   "metadata": {},
   "outputs": [
    {
     "data": {
      "text/html": [
       "<div>\n",
       "<style scoped>\n",
       "    .dataframe tbody tr th:only-of-type {\n",
       "        vertical-align: middle;\n",
       "    }\n",
       "\n",
       "    .dataframe tbody tr th {\n",
       "        vertical-align: top;\n",
       "    }\n",
       "\n",
       "    .dataframe thead th {\n",
       "        text-align: right;\n",
       "    }\n",
       "</style>\n",
       "<table border=\"1\" class=\"dataframe\">\n",
       "  <thead>\n",
       "    <tr style=\"text-align: right;\">\n",
       "      <th></th>\n",
       "      <th>year</th>\n",
       "      <th>name</th>\n",
       "    </tr>\n",
       "  </thead>\n",
       "  <tbody>\n",
       "    <tr>\n",
       "      <th>one</th>\n",
       "      <td>2014</td>\n",
       "      <td>dongyo</td>\n",
       "    </tr>\n",
       "    <tr>\n",
       "      <th>two</th>\n",
       "      <td>2015</td>\n",
       "      <td>ara</td>\n",
       "    </tr>\n",
       "    <tr>\n",
       "      <th>threes</th>\n",
       "      <td>2016</td>\n",
       "      <td>hoon</td>\n",
       "    </tr>\n",
       "    <tr>\n",
       "      <th>four</th>\n",
       "      <td>2017</td>\n",
       "      <td>jameng</td>\n",
       "    </tr>\n",
       "    <tr>\n",
       "      <th>five</th>\n",
       "      <td>2018</td>\n",
       "      <td>hoon</td>\n",
       "    </tr>\n",
       "  </tbody>\n",
       "</table>\n",
       "</div>"
      ],
      "text/plain": [
       "        year    name\n",
       "one     2014  dongyo\n",
       "two     2015     ara\n",
       "threes  2016    hoon\n",
       "four    2017  jameng\n",
       "five    2018    hoon"
      ]
     },
     "execution_count": 5,
     "metadata": {},
     "output_type": "execute_result"
    }
   ],
   "source": [
    "df[['year', 'name']] # df[['컬럼이름1', '컬럼이름2']]"
   ]
  },
  {
   "cell_type": "markdown",
   "id": "2f50196b",
   "metadata": {},
   "source": [
    "`2개 이상의 열`을 가져온 결과는 **DataFrame 형태**로 가져온다.  \n",
    "**대괄호가 2개라는 것을 명심**"
   ]
  },
  {
   "cell_type": "markdown",
   "id": "b64612cd",
   "metadata": {},
   "source": [
    "---\n",
    "**선택된 열의 모든 성분에, 일괄적으로 값을 대입할 수 있다.**  \n",
    "성분이 비어있던 'penalty'에다가 0.5를 넣어보자"
   ]
  },
  {
   "cell_type": "code",
   "execution_count": 6,
   "id": "b8c8e4b9",
   "metadata": {},
   "outputs": [],
   "source": [
    "df['penalty'] = 0.5"
   ]
  },
  {
   "cell_type": "code",
   "execution_count": 7,
   "id": "519fdbe9",
   "metadata": {},
   "outputs": [
    {
     "data": {
      "text/html": [
       "<div>\n",
       "<style scoped>\n",
       "    .dataframe tbody tr th:only-of-type {\n",
       "        vertical-align: middle;\n",
       "    }\n",
       "\n",
       "    .dataframe tbody tr th {\n",
       "        vertical-align: top;\n",
       "    }\n",
       "\n",
       "    .dataframe thead th {\n",
       "        text-align: right;\n",
       "    }\n",
       "</style>\n",
       "<table border=\"1\" class=\"dataframe\">\n",
       "  <thead>\n",
       "    <tr style=\"text-align: right;\">\n",
       "      <th></th>\n",
       "      <th>name</th>\n",
       "      <th>year</th>\n",
       "      <th>point</th>\n",
       "      <th>penalty</th>\n",
       "    </tr>\n",
       "  </thead>\n",
       "  <tbody>\n",
       "    <tr>\n",
       "      <th>one</th>\n",
       "      <td>dongyo</td>\n",
       "      <td>2014</td>\n",
       "      <td>1.5</td>\n",
       "      <td>0.5</td>\n",
       "    </tr>\n",
       "    <tr>\n",
       "      <th>two</th>\n",
       "      <td>ara</td>\n",
       "      <td>2015</td>\n",
       "      <td>1.7</td>\n",
       "      <td>0.5</td>\n",
       "    </tr>\n",
       "    <tr>\n",
       "      <th>threes</th>\n",
       "      <td>hoon</td>\n",
       "      <td>2016</td>\n",
       "      <td>3.6</td>\n",
       "      <td>0.5</td>\n",
       "    </tr>\n",
       "    <tr>\n",
       "      <th>four</th>\n",
       "      <td>jameng</td>\n",
       "      <td>2017</td>\n",
       "      <td>2.4</td>\n",
       "      <td>0.5</td>\n",
       "    </tr>\n",
       "    <tr>\n",
       "      <th>five</th>\n",
       "      <td>hoon</td>\n",
       "      <td>2018</td>\n",
       "      <td>2.9</td>\n",
       "      <td>0.5</td>\n",
       "    </tr>\n",
       "  </tbody>\n",
       "</table>\n",
       "</div>"
      ],
      "text/plain": [
       "          name  year  point  penalty\n",
       "one     dongyo  2014    1.5      0.5\n",
       "two        ara  2015    1.7      0.5\n",
       "threes    hoon  2016    3.6      0.5\n",
       "four    jameng  2017    2.4      0.5\n",
       "five      hoon  2018    2.9      0.5"
      ]
     },
     "execution_count": 7,
     "metadata": {},
     "output_type": "execute_result"
    }
   ],
   "source": [
    "df"
   ]
  },
  {
   "cell_type": "markdown",
   "id": "dafe5edf",
   "metadata": {},
   "source": [
    "일관적인 값이 아니라, 선택된 열에다가 행에 따라 각각 어떤 값을 대입하고 싶다면  \n",
    "python의 리스트 형태로 만들어서 대입하면 된다.   \n",
    "numpy의 1차원 array도 대입 가능   "
   ]
  },
  {
   "cell_type": "code",
   "execution_count": 8,
   "id": "bcfcc0d5",
   "metadata": {},
   "outputs": [],
   "source": [
    "df['penalty'] = [0.1, 0.2, 0.3, 0.4, 0.5]"
   ]
  },
  {
   "cell_type": "code",
   "execution_count": 9,
   "id": "b8a93110",
   "metadata": {},
   "outputs": [
    {
     "data": {
      "text/html": [
       "<div>\n",
       "<style scoped>\n",
       "    .dataframe tbody tr th:only-of-type {\n",
       "        vertical-align: middle;\n",
       "    }\n",
       "\n",
       "    .dataframe tbody tr th {\n",
       "        vertical-align: top;\n",
       "    }\n",
       "\n",
       "    .dataframe thead th {\n",
       "        text-align: right;\n",
       "    }\n",
       "</style>\n",
       "<table border=\"1\" class=\"dataframe\">\n",
       "  <thead>\n",
       "    <tr style=\"text-align: right;\">\n",
       "      <th></th>\n",
       "      <th>name</th>\n",
       "      <th>year</th>\n",
       "      <th>point</th>\n",
       "      <th>penalty</th>\n",
       "    </tr>\n",
       "  </thead>\n",
       "  <tbody>\n",
       "    <tr>\n",
       "      <th>one</th>\n",
       "      <td>dongyo</td>\n",
       "      <td>2014</td>\n",
       "      <td>1.5</td>\n",
       "      <td>0.1</td>\n",
       "    </tr>\n",
       "    <tr>\n",
       "      <th>two</th>\n",
       "      <td>ara</td>\n",
       "      <td>2015</td>\n",
       "      <td>1.7</td>\n",
       "      <td>0.2</td>\n",
       "    </tr>\n",
       "    <tr>\n",
       "      <th>threes</th>\n",
       "      <td>hoon</td>\n",
       "      <td>2016</td>\n",
       "      <td>3.6</td>\n",
       "      <td>0.3</td>\n",
       "    </tr>\n",
       "    <tr>\n",
       "      <th>four</th>\n",
       "      <td>jameng</td>\n",
       "      <td>2017</td>\n",
       "      <td>2.4</td>\n",
       "      <td>0.4</td>\n",
       "    </tr>\n",
       "    <tr>\n",
       "      <th>five</th>\n",
       "      <td>hoon</td>\n",
       "      <td>2018</td>\n",
       "      <td>2.9</td>\n",
       "      <td>0.5</td>\n",
       "    </tr>\n",
       "  </tbody>\n",
       "</table>\n",
       "</div>"
      ],
      "text/plain": [
       "          name  year  point  penalty\n",
       "one     dongyo  2014    1.5      0.1\n",
       "two        ara  2015    1.7      0.2\n",
       "threes    hoon  2016    3.6      0.3\n",
       "four    jameng  2017    2.4      0.4\n",
       "five      hoon  2018    2.9      0.5"
      ]
     },
     "execution_count": 9,
     "metadata": {},
     "output_type": "execute_result"
    }
   ],
   "source": [
    "df"
   ]
  },
  {
   "cell_type": "markdown",
   "id": "8ffbfbe7",
   "metadata": {},
   "source": [
    "---\n",
    "#### 새로운 열을 생성과 동시에 대입도 가능하다\n",
    "cf) np.arrange(n)은 0부터 총 n개, 즉, n-1까지 1차원 배열을 생성한다는 뜻 "
   ]
  },
  {
   "cell_type": "code",
   "execution_count": 10,
   "id": "c32ca6ed",
   "metadata": {},
   "outputs": [],
   "source": [
    "df['zeros'] = np.arange(5)"
   ]
  },
  {
   "cell_type": "code",
   "execution_count": 11,
   "id": "c45dfc7c",
   "metadata": {},
   "outputs": [
    {
     "data": {
      "text/html": [
       "<div>\n",
       "<style scoped>\n",
       "    .dataframe tbody tr th:only-of-type {\n",
       "        vertical-align: middle;\n",
       "    }\n",
       "\n",
       "    .dataframe tbody tr th {\n",
       "        vertical-align: top;\n",
       "    }\n",
       "\n",
       "    .dataframe thead th {\n",
       "        text-align: right;\n",
       "    }\n",
       "</style>\n",
       "<table border=\"1\" class=\"dataframe\">\n",
       "  <thead>\n",
       "    <tr style=\"text-align: right;\">\n",
       "      <th></th>\n",
       "      <th>name</th>\n",
       "      <th>year</th>\n",
       "      <th>point</th>\n",
       "      <th>penalty</th>\n",
       "      <th>zeros</th>\n",
       "    </tr>\n",
       "  </thead>\n",
       "  <tbody>\n",
       "    <tr>\n",
       "      <th>one</th>\n",
       "      <td>dongyo</td>\n",
       "      <td>2014</td>\n",
       "      <td>1.5</td>\n",
       "      <td>0.1</td>\n",
       "      <td>0</td>\n",
       "    </tr>\n",
       "    <tr>\n",
       "      <th>two</th>\n",
       "      <td>ara</td>\n",
       "      <td>2015</td>\n",
       "      <td>1.7</td>\n",
       "      <td>0.2</td>\n",
       "      <td>1</td>\n",
       "    </tr>\n",
       "    <tr>\n",
       "      <th>threes</th>\n",
       "      <td>hoon</td>\n",
       "      <td>2016</td>\n",
       "      <td>3.6</td>\n",
       "      <td>0.3</td>\n",
       "      <td>2</td>\n",
       "    </tr>\n",
       "    <tr>\n",
       "      <th>four</th>\n",
       "      <td>jameng</td>\n",
       "      <td>2017</td>\n",
       "      <td>2.4</td>\n",
       "      <td>0.4</td>\n",
       "      <td>3</td>\n",
       "    </tr>\n",
       "    <tr>\n",
       "      <th>five</th>\n",
       "      <td>hoon</td>\n",
       "      <td>2018</td>\n",
       "      <td>2.9</td>\n",
       "      <td>0.5</td>\n",
       "      <td>4</td>\n",
       "    </tr>\n",
       "  </tbody>\n",
       "</table>\n",
       "</div>"
      ],
      "text/plain": [
       "          name  year  point  penalty  zeros\n",
       "one     dongyo  2014    1.5      0.1      0\n",
       "two        ara  2015    1.7      0.2      1\n",
       "threes    hoon  2016    3.6      0.3      2\n",
       "four    jameng  2017    2.4      0.4      3\n",
       "five      hoon  2018    2.9      0.5      4"
      ]
     },
     "execution_count": 11,
     "metadata": {},
     "output_type": "execute_result"
    }
   ],
   "source": [
    "df"
   ]
  },
  {
   "cell_type": "markdown",
   "id": "f0db4084",
   "metadata": {},
   "source": [
    "---\n",
    "새로운 열을 입력할 때도, 리스트가 아닌 `Series`를 대입할 수 있다 "
   ]
  },
  {
   "cell_type": "code",
   "execution_count": 12,
   "id": "91036093",
   "metadata": {},
   "outputs": [],
   "source": [
    "val = pd.Series([-1.2, -1.5, -1.7], index = ['one', 'threes', 'five'])"
   ]
  },
  {
   "cell_type": "code",
   "execution_count": 13,
   "id": "52de8101",
   "metadata": {},
   "outputs": [],
   "source": [
    "df['debt'] = val"
   ]
  },
  {
   "cell_type": "code",
   "execution_count": 14,
   "id": "732d1445",
   "metadata": {},
   "outputs": [
    {
     "data": {
      "text/html": [
       "<div>\n",
       "<style scoped>\n",
       "    .dataframe tbody tr th:only-of-type {\n",
       "        vertical-align: middle;\n",
       "    }\n",
       "\n",
       "    .dataframe tbody tr th {\n",
       "        vertical-align: top;\n",
       "    }\n",
       "\n",
       "    .dataframe thead th {\n",
       "        text-align: right;\n",
       "    }\n",
       "</style>\n",
       "<table border=\"1\" class=\"dataframe\">\n",
       "  <thead>\n",
       "    <tr style=\"text-align: right;\">\n",
       "      <th></th>\n",
       "      <th>name</th>\n",
       "      <th>year</th>\n",
       "      <th>point</th>\n",
       "      <th>penalty</th>\n",
       "      <th>zeros</th>\n",
       "      <th>debt</th>\n",
       "    </tr>\n",
       "  </thead>\n",
       "  <tbody>\n",
       "    <tr>\n",
       "      <th>one</th>\n",
       "      <td>dongyo</td>\n",
       "      <td>2014</td>\n",
       "      <td>1.5</td>\n",
       "      <td>0.1</td>\n",
       "      <td>0</td>\n",
       "      <td>-1.2</td>\n",
       "    </tr>\n",
       "    <tr>\n",
       "      <th>two</th>\n",
       "      <td>ara</td>\n",
       "      <td>2015</td>\n",
       "      <td>1.7</td>\n",
       "      <td>0.2</td>\n",
       "      <td>1</td>\n",
       "      <td>NaN</td>\n",
       "    </tr>\n",
       "    <tr>\n",
       "      <th>threes</th>\n",
       "      <td>hoon</td>\n",
       "      <td>2016</td>\n",
       "      <td>3.6</td>\n",
       "      <td>0.3</td>\n",
       "      <td>2</td>\n",
       "      <td>-1.5</td>\n",
       "    </tr>\n",
       "    <tr>\n",
       "      <th>four</th>\n",
       "      <td>jameng</td>\n",
       "      <td>2017</td>\n",
       "      <td>2.4</td>\n",
       "      <td>0.4</td>\n",
       "      <td>3</td>\n",
       "      <td>NaN</td>\n",
       "    </tr>\n",
       "    <tr>\n",
       "      <th>five</th>\n",
       "      <td>hoon</td>\n",
       "      <td>2018</td>\n",
       "      <td>2.9</td>\n",
       "      <td>0.5</td>\n",
       "      <td>4</td>\n",
       "      <td>-1.7</td>\n",
       "    </tr>\n",
       "  </tbody>\n",
       "</table>\n",
       "</div>"
      ],
      "text/plain": [
       "          name  year  point  penalty  zeros  debt\n",
       "one     dongyo  2014    1.5      0.1      0  -1.2\n",
       "two        ara  2015    1.7      0.2      1   NaN\n",
       "threes    hoon  2016    3.6      0.3      2  -1.5\n",
       "four    jameng  2017    2.4      0.4      3   NaN\n",
       "five      hoon  2018    2.9      0.5      4  -1.7"
      ]
     },
     "execution_count": 14,
     "metadata": {},
     "output_type": "execute_result"
    }
   ],
   "source": [
    "df"
   ]
  },
  {
   "cell_type": "markdown",
   "id": "33a4d03d",
   "metadata": {},
   "source": [
    "Series를 만들어서 대입하는 이유는, Series를 정의할 때, 리스트 형식으로 values를 넣고  \n",
    "뒤 인자에 index를 정의해 줄 수 있고, **기존의 행index와 동일한 이름으로 주면, 맞춰서 끼워 들어가는 특징**을 이용할 수 있다."
   ]
  },
  {
   "cell_type": "markdown",
   "id": "f70f9e94",
   "metadata": {},
   "source": [
    "---\n",
    "#### 새로운 열을 추가할 때, 기존 dataFrame 열의 값을 연산한 것도 대입할 수 있다."
   ]
  },
  {
   "cell_type": "code",
   "execution_count": 15,
   "id": "f3136b6f",
   "metadata": {},
   "outputs": [],
   "source": [
    "df['net_point'] = df['point'] - df['penalty']"
   ]
  },
  {
   "cell_type": "code",
   "execution_count": 16,
   "id": "111dbd31",
   "metadata": {},
   "outputs": [
    {
     "data": {
      "text/html": [
       "<div>\n",
       "<style scoped>\n",
       "    .dataframe tbody tr th:only-of-type {\n",
       "        vertical-align: middle;\n",
       "    }\n",
       "\n",
       "    .dataframe tbody tr th {\n",
       "        vertical-align: top;\n",
       "    }\n",
       "\n",
       "    .dataframe thead th {\n",
       "        text-align: right;\n",
       "    }\n",
       "</style>\n",
       "<table border=\"1\" class=\"dataframe\">\n",
       "  <thead>\n",
       "    <tr style=\"text-align: right;\">\n",
       "      <th></th>\n",
       "      <th>name</th>\n",
       "      <th>year</th>\n",
       "      <th>point</th>\n",
       "      <th>penalty</th>\n",
       "      <th>zeros</th>\n",
       "      <th>debt</th>\n",
       "      <th>net_point</th>\n",
       "    </tr>\n",
       "  </thead>\n",
       "  <tbody>\n",
       "    <tr>\n",
       "      <th>one</th>\n",
       "      <td>dongyo</td>\n",
       "      <td>2014</td>\n",
       "      <td>1.5</td>\n",
       "      <td>0.1</td>\n",
       "      <td>0</td>\n",
       "      <td>-1.2</td>\n",
       "      <td>1.4</td>\n",
       "    </tr>\n",
       "    <tr>\n",
       "      <th>two</th>\n",
       "      <td>ara</td>\n",
       "      <td>2015</td>\n",
       "      <td>1.7</td>\n",
       "      <td>0.2</td>\n",
       "      <td>1</td>\n",
       "      <td>NaN</td>\n",
       "      <td>1.5</td>\n",
       "    </tr>\n",
       "    <tr>\n",
       "      <th>threes</th>\n",
       "      <td>hoon</td>\n",
       "      <td>2016</td>\n",
       "      <td>3.6</td>\n",
       "      <td>0.3</td>\n",
       "      <td>2</td>\n",
       "      <td>-1.5</td>\n",
       "      <td>3.3</td>\n",
       "    </tr>\n",
       "    <tr>\n",
       "      <th>four</th>\n",
       "      <td>jameng</td>\n",
       "      <td>2017</td>\n",
       "      <td>2.4</td>\n",
       "      <td>0.4</td>\n",
       "      <td>3</td>\n",
       "      <td>NaN</td>\n",
       "      <td>2.0</td>\n",
       "    </tr>\n",
       "    <tr>\n",
       "      <th>five</th>\n",
       "      <td>hoon</td>\n",
       "      <td>2018</td>\n",
       "      <td>2.9</td>\n",
       "      <td>0.5</td>\n",
       "      <td>4</td>\n",
       "      <td>-1.7</td>\n",
       "      <td>2.4</td>\n",
       "    </tr>\n",
       "  </tbody>\n",
       "</table>\n",
       "</div>"
      ],
      "text/plain": [
       "          name  year  point  penalty  zeros  debt  net_point\n",
       "one     dongyo  2014    1.5      0.1      0  -1.2        1.4\n",
       "two        ara  2015    1.7      0.2      1   NaN        1.5\n",
       "threes    hoon  2016    3.6      0.3      2  -1.5        3.3\n",
       "four    jameng  2017    2.4      0.4      3   NaN        2.0\n",
       "five      hoon  2018    2.9      0.5      4  -1.7        2.4"
      ]
     },
     "execution_count": 16,
     "metadata": {},
     "output_type": "execute_result"
    }
   ],
   "source": [
    "df"
   ]
  },
  {
   "cell_type": "markdown",
   "id": "fee5b0b8",
   "metadata": {},
   "source": [
    "---\n",
    "비슷하게 **조건문을 통해 True 혹은 False가 대입**되도록 할 수도 있다."
   ]
  },
  {
   "cell_type": "code",
   "execution_count": 17,
   "id": "ebbb1f48",
   "metadata": {},
   "outputs": [],
   "source": [
    "df['high_point'] = df['net_point'] > 2.0"
   ]
  },
  {
   "cell_type": "code",
   "execution_count": 18,
   "id": "536bc4b8",
   "metadata": {},
   "outputs": [
    {
     "data": {
      "text/html": [
       "<div>\n",
       "<style scoped>\n",
       "    .dataframe tbody tr th:only-of-type {\n",
       "        vertical-align: middle;\n",
       "    }\n",
       "\n",
       "    .dataframe tbody tr th {\n",
       "        vertical-align: top;\n",
       "    }\n",
       "\n",
       "    .dataframe thead th {\n",
       "        text-align: right;\n",
       "    }\n",
       "</style>\n",
       "<table border=\"1\" class=\"dataframe\">\n",
       "  <thead>\n",
       "    <tr style=\"text-align: right;\">\n",
       "      <th></th>\n",
       "      <th>name</th>\n",
       "      <th>year</th>\n",
       "      <th>point</th>\n",
       "      <th>penalty</th>\n",
       "      <th>zeros</th>\n",
       "      <th>debt</th>\n",
       "      <th>net_point</th>\n",
       "      <th>high_point</th>\n",
       "    </tr>\n",
       "  </thead>\n",
       "  <tbody>\n",
       "    <tr>\n",
       "      <th>one</th>\n",
       "      <td>dongyo</td>\n",
       "      <td>2014</td>\n",
       "      <td>1.5</td>\n",
       "      <td>0.1</td>\n",
       "      <td>0</td>\n",
       "      <td>-1.2</td>\n",
       "      <td>1.4</td>\n",
       "      <td>False</td>\n",
       "    </tr>\n",
       "    <tr>\n",
       "      <th>two</th>\n",
       "      <td>ara</td>\n",
       "      <td>2015</td>\n",
       "      <td>1.7</td>\n",
       "      <td>0.2</td>\n",
       "      <td>1</td>\n",
       "      <td>NaN</td>\n",
       "      <td>1.5</td>\n",
       "      <td>False</td>\n",
       "    </tr>\n",
       "    <tr>\n",
       "      <th>threes</th>\n",
       "      <td>hoon</td>\n",
       "      <td>2016</td>\n",
       "      <td>3.6</td>\n",
       "      <td>0.3</td>\n",
       "      <td>2</td>\n",
       "      <td>-1.5</td>\n",
       "      <td>3.3</td>\n",
       "      <td>True</td>\n",
       "    </tr>\n",
       "    <tr>\n",
       "      <th>four</th>\n",
       "      <td>jameng</td>\n",
       "      <td>2017</td>\n",
       "      <td>2.4</td>\n",
       "      <td>0.4</td>\n",
       "      <td>3</td>\n",
       "      <td>NaN</td>\n",
       "      <td>2.0</td>\n",
       "      <td>False</td>\n",
       "    </tr>\n",
       "    <tr>\n",
       "      <th>five</th>\n",
       "      <td>hoon</td>\n",
       "      <td>2018</td>\n",
       "      <td>2.9</td>\n",
       "      <td>0.5</td>\n",
       "      <td>4</td>\n",
       "      <td>-1.7</td>\n",
       "      <td>2.4</td>\n",
       "      <td>True</td>\n",
       "    </tr>\n",
       "  </tbody>\n",
       "</table>\n",
       "</div>"
      ],
      "text/plain": [
       "          name  year  point  penalty  zeros  debt  net_point  high_point\n",
       "one     dongyo  2014    1.5      0.1      0  -1.2        1.4       False\n",
       "two        ara  2015    1.7      0.2      1   NaN        1.5       False\n",
       "threes    hoon  2016    3.6      0.3      2  -1.5        3.3        True\n",
       "four    jameng  2017    2.4      0.4      3   NaN        2.0       False\n",
       "five      hoon  2018    2.9      0.5      4  -1.7        2.4        True"
      ]
     },
     "execution_count": 18,
     "metadata": {},
     "output_type": "execute_result"
    }
   ],
   "source": [
    "df"
   ]
  },
  {
   "cell_type": "markdown",
   "id": "a6bfa95a",
   "metadata": {},
   "source": [
    "---\n",
    "기존의 열을 삭제하는 방법은, `del 키워드`와 함께 일반적인 열 선택코드를 입력하면 된다"
   ]
  },
  {
   "cell_type": "code",
   "execution_count": 19,
   "id": "cb792643",
   "metadata": {},
   "outputs": [],
   "source": [
    "del df['zeros']\n",
    "del df['debt']\n",
    "del df['net_point']\n",
    "del df['high_point']"
   ]
  },
  {
   "cell_type": "code",
   "execution_count": 20,
   "id": "f15be8a1",
   "metadata": {},
   "outputs": [
    {
     "data": {
      "text/html": [
       "<div>\n",
       "<style scoped>\n",
       "    .dataframe tbody tr th:only-of-type {\n",
       "        vertical-align: middle;\n",
       "    }\n",
       "\n",
       "    .dataframe tbody tr th {\n",
       "        vertical-align: top;\n",
       "    }\n",
       "\n",
       "    .dataframe thead th {\n",
       "        text-align: right;\n",
       "    }\n",
       "</style>\n",
       "<table border=\"1\" class=\"dataframe\">\n",
       "  <thead>\n",
       "    <tr style=\"text-align: right;\">\n",
       "      <th></th>\n",
       "      <th>name</th>\n",
       "      <th>year</th>\n",
       "      <th>point</th>\n",
       "      <th>penalty</th>\n",
       "    </tr>\n",
       "  </thead>\n",
       "  <tbody>\n",
       "    <tr>\n",
       "      <th>one</th>\n",
       "      <td>dongyo</td>\n",
       "      <td>2014</td>\n",
       "      <td>1.5</td>\n",
       "      <td>0.1</td>\n",
       "    </tr>\n",
       "    <tr>\n",
       "      <th>two</th>\n",
       "      <td>ara</td>\n",
       "      <td>2015</td>\n",
       "      <td>1.7</td>\n",
       "      <td>0.2</td>\n",
       "    </tr>\n",
       "    <tr>\n",
       "      <th>threes</th>\n",
       "      <td>hoon</td>\n",
       "      <td>2016</td>\n",
       "      <td>3.6</td>\n",
       "      <td>0.3</td>\n",
       "    </tr>\n",
       "    <tr>\n",
       "      <th>four</th>\n",
       "      <td>jameng</td>\n",
       "      <td>2017</td>\n",
       "      <td>2.4</td>\n",
       "      <td>0.4</td>\n",
       "    </tr>\n",
       "    <tr>\n",
       "      <th>five</th>\n",
       "      <td>hoon</td>\n",
       "      <td>2018</td>\n",
       "      <td>2.9</td>\n",
       "      <td>0.5</td>\n",
       "    </tr>\n",
       "  </tbody>\n",
       "</table>\n",
       "</div>"
      ],
      "text/plain": [
       "          name  year  point  penalty\n",
       "one     dongyo  2014    1.5      0.1\n",
       "two        ara  2015    1.7      0.2\n",
       "threes    hoon  2016    3.6      0.3\n",
       "four    jameng  2017    2.4      0.4\n",
       "five      hoon  2018    2.9      0.5"
      ]
     },
     "execution_count": 20,
     "metadata": {},
     "output_type": "execute_result"
    }
   ],
   "source": [
    "df"
   ]
  },
  {
   "cell_type": "markdown",
   "id": "ba94f41a",
   "metadata": {},
   "source": [
    "dataframe의 index와 columns에 이름을 정해주자"
   ]
  },
  {
   "cell_type": "code",
   "execution_count": 21,
   "id": "376725e8",
   "metadata": {},
   "outputs": [],
   "source": [
    "df.index.name = 'Order'\n",
    "df.columns.name = 'Info'\n"
   ]
  },
  {
   "cell_type": "code",
   "execution_count": 22,
   "id": "f95b1258",
   "metadata": {},
   "outputs": [
    {
     "data": {
      "text/html": [
       "<div>\n",
       "<style scoped>\n",
       "    .dataframe tbody tr th:only-of-type {\n",
       "        vertical-align: middle;\n",
       "    }\n",
       "\n",
       "    .dataframe tbody tr th {\n",
       "        vertical-align: top;\n",
       "    }\n",
       "\n",
       "    .dataframe thead th {\n",
       "        text-align: right;\n",
       "    }\n",
       "</style>\n",
       "<table border=\"1\" class=\"dataframe\">\n",
       "  <thead>\n",
       "    <tr style=\"text-align: right;\">\n",
       "      <th>Info</th>\n",
       "      <th>name</th>\n",
       "      <th>year</th>\n",
       "      <th>point</th>\n",
       "      <th>penalty</th>\n",
       "    </tr>\n",
       "    <tr>\n",
       "      <th>Order</th>\n",
       "      <th></th>\n",
       "      <th></th>\n",
       "      <th></th>\n",
       "      <th></th>\n",
       "    </tr>\n",
       "  </thead>\n",
       "  <tbody>\n",
       "    <tr>\n",
       "      <th>one</th>\n",
       "      <td>dongyo</td>\n",
       "      <td>2014</td>\n",
       "      <td>1.5</td>\n",
       "      <td>0.1</td>\n",
       "    </tr>\n",
       "    <tr>\n",
       "      <th>two</th>\n",
       "      <td>ara</td>\n",
       "      <td>2015</td>\n",
       "      <td>1.7</td>\n",
       "      <td>0.2</td>\n",
       "    </tr>\n",
       "    <tr>\n",
       "      <th>threes</th>\n",
       "      <td>hoon</td>\n",
       "      <td>2016</td>\n",
       "      <td>3.6</td>\n",
       "      <td>0.3</td>\n",
       "    </tr>\n",
       "    <tr>\n",
       "      <th>four</th>\n",
       "      <td>jameng</td>\n",
       "      <td>2017</td>\n",
       "      <td>2.4</td>\n",
       "      <td>0.4</td>\n",
       "    </tr>\n",
       "    <tr>\n",
       "      <th>five</th>\n",
       "      <td>hoon</td>\n",
       "      <td>2018</td>\n",
       "      <td>2.9</td>\n",
       "      <td>0.5</td>\n",
       "    </tr>\n",
       "  </tbody>\n",
       "</table>\n",
       "</div>"
      ],
      "text/plain": [
       "Info      name  year  point  penalty\n",
       "Order                               \n",
       "one     dongyo  2014    1.5      0.1\n",
       "two        ara  2015    1.7      0.2\n",
       "threes    hoon  2016    3.6      0.3\n",
       "four    jameng  2017    2.4      0.4\n",
       "five      hoon  2018    2.9      0.5"
      ]
     },
     "execution_count": 22,
     "metadata": {},
     "output_type": "execute_result"
    }
   ],
   "source": [
    "df"
   ]
  },
  {
   "cell_type": "markdown",
   "id": "cc601b14",
   "metadata": {},
   "source": [
    "---\n",
    "#### DataFrame의 행을 선택하고 조작하기"
   ]
  },
  {
   "cell_type": "markdown",
   "id": "ced76a5a",
   "metadata": {},
   "source": [
    "**.loc[] 와 .iloc[] 함수를 사용해서 행을 인덱싱**하는 방법을 추천"
   ]
  },
  {
   "cell_type": "code",
   "execution_count": 23,
   "id": "25e91f03",
   "metadata": {},
   "outputs": [
    {
     "data": {
      "text/plain": [
       "Info\n",
       "name        ara\n",
       "year       2015\n",
       "point       1.7\n",
       "penalty     0.2\n",
       "Name: two, dtype: object"
      ]
     },
     "execution_count": 23,
     "metadata": {},
     "output_type": "execute_result"
    }
   ],
   "source": [
    "df.loc['two']"
   ]
  },
  {
   "cell_type": "markdown",
   "id": "188a078b",
   "metadata": {},
   "source": [
    "---\n",
    "df.loc[\"index 명\"]을 통해 가져온 값은, 열을 인덱싱 했을 때와 마찬가지로 **Series 형태로 가져온다.**  \n",
    "**행의 범위 인덱싱도 마찬가지**"
   ]
  },
  {
   "cell_type": "code",
   "execution_count": 24,
   "id": "c4f99356",
   "metadata": {
    "scrolled": true
   },
   "outputs": [
    {
     "data": {
      "text/html": [
       "<div>\n",
       "<style scoped>\n",
       "    .dataframe tbody tr th:only-of-type {\n",
       "        vertical-align: middle;\n",
       "    }\n",
       "\n",
       "    .dataframe tbody tr th {\n",
       "        vertical-align: top;\n",
       "    }\n",
       "\n",
       "    .dataframe thead th {\n",
       "        text-align: right;\n",
       "    }\n",
       "</style>\n",
       "<table border=\"1\" class=\"dataframe\">\n",
       "  <thead>\n",
       "    <tr style=\"text-align: right;\">\n",
       "      <th>Info</th>\n",
       "      <th>name</th>\n",
       "      <th>year</th>\n",
       "      <th>point</th>\n",
       "      <th>penalty</th>\n",
       "    </tr>\n",
       "    <tr>\n",
       "      <th>Order</th>\n",
       "      <th></th>\n",
       "      <th></th>\n",
       "      <th></th>\n",
       "      <th></th>\n",
       "    </tr>\n",
       "  </thead>\n",
       "  <tbody>\n",
       "    <tr>\n",
       "      <th>two</th>\n",
       "      <td>ara</td>\n",
       "      <td>2015</td>\n",
       "      <td>1.7</td>\n",
       "      <td>0.2</td>\n",
       "    </tr>\n",
       "    <tr>\n",
       "      <th>four</th>\n",
       "      <td>jameng</td>\n",
       "      <td>2017</td>\n",
       "      <td>2.4</td>\n",
       "      <td>0.4</td>\n",
       "    </tr>\n",
       "  </tbody>\n",
       "</table>\n",
       "</div>"
      ],
      "text/plain": [
       "Info     name  year  point  penalty\n",
       "Order                              \n",
       "two       ara  2015    1.7      0.2\n",
       "four   jameng  2017    2.4      0.4"
      ]
     },
     "execution_count": 24,
     "metadata": {},
     "output_type": "execute_result"
    }
   ],
   "source": [
    "df.loc[['two', 'four']]"
   ]
  },
  {
   "cell_type": "code",
   "execution_count": 25,
   "id": "21a2a6ff",
   "metadata": {},
   "outputs": [
    {
     "data": {
      "text/html": [
       "<div>\n",
       "<style scoped>\n",
       "    .dataframe tbody tr th:only-of-type {\n",
       "        vertical-align: middle;\n",
       "    }\n",
       "\n",
       "    .dataframe tbody tr th {\n",
       "        vertical-align: top;\n",
       "    }\n",
       "\n",
       "    .dataframe thead th {\n",
       "        text-align: right;\n",
       "    }\n",
       "</style>\n",
       "<table border=\"1\" class=\"dataframe\">\n",
       "  <thead>\n",
       "    <tr style=\"text-align: right;\">\n",
       "      <th>Info</th>\n",
       "      <th>name</th>\n",
       "      <th>year</th>\n",
       "      <th>point</th>\n",
       "      <th>penalty</th>\n",
       "    </tr>\n",
       "    <tr>\n",
       "      <th>Order</th>\n",
       "      <th></th>\n",
       "      <th></th>\n",
       "      <th></th>\n",
       "      <th></th>\n",
       "    </tr>\n",
       "  </thead>\n",
       "  <tbody>\n",
       "    <tr>\n",
       "      <th>two</th>\n",
       "      <td>ara</td>\n",
       "      <td>2015</td>\n",
       "      <td>1.7</td>\n",
       "      <td>0.2</td>\n",
       "    </tr>\n",
       "    <tr>\n",
       "      <th>threes</th>\n",
       "      <td>hoon</td>\n",
       "      <td>2016</td>\n",
       "      <td>3.6</td>\n",
       "      <td>0.3</td>\n",
       "    </tr>\n",
       "    <tr>\n",
       "      <th>four</th>\n",
       "      <td>jameng</td>\n",
       "      <td>2017</td>\n",
       "      <td>2.4</td>\n",
       "      <td>0.4</td>\n",
       "    </tr>\n",
       "  </tbody>\n",
       "</table>\n",
       "</div>"
      ],
      "text/plain": [
       "Info      name  year  point  penalty\n",
       "Order                               \n",
       "two        ara  2015    1.7      0.2\n",
       "threes    hoon  2016    3.6      0.3\n",
       "four    jameng  2017    2.4      0.4"
      ]
     },
     "execution_count": 25,
     "metadata": {},
     "output_type": "execute_result"
    }
   ],
   "source": [
    "df.loc['two': 'four']"
   ]
  },
  {
   "cell_type": "markdown",
   "id": "0d091763",
   "metadata": {},
   "source": [
    ".log[]함수의 재밌는 점은, 행을 인덱싱하면서 동시에 **열도 인덱싱 할 수 있다.**  \n",
    "df.loc['two': 'four', '컬럼명']"
   ]
  },
  {
   "cell_type": "code",
   "execution_count": 26,
   "id": "f53c9ea9",
   "metadata": {},
   "outputs": [
    {
     "data": {
      "text/plain": [
       "Order\n",
       "two       1.7\n",
       "threes    3.6\n",
       "four      2.4\n",
       "Name: point, dtype: float64"
      ]
     },
     "execution_count": 26,
     "metadata": {},
     "output_type": "execute_result"
    }
   ],
   "source": [
    "df.loc['two': 'four', 'point']"
   ]
  },
  {
   "cell_type": "markdown",
   "id": "b3594459",
   "metadata": {},
   "source": [
    "이를 응용하면, 행익덱스 자리에 전체를 의미하는 **콜론(:)을** 넣고, 가져올 칼럼명을 입력하면,  \n",
    "**열을 인덱싱하는 것**과 같아진다.  \n",
    "즉, loc[:, \"칼럼명\"] = df[\"칼럼명\"]"
   ]
  },
  {
   "cell_type": "code",
   "execution_count": 27,
   "id": "441d48a5",
   "metadata": {},
   "outputs": [
    {
     "data": {
      "text/plain": [
       "Order\n",
       "one       1.5\n",
       "two       1.7\n",
       "threes    3.6\n",
       "four      2.4\n",
       "five      2.9\n",
       "Name: point, dtype: float64"
      ]
     },
     "execution_count": 27,
     "metadata": {},
     "output_type": "execute_result"
    }
   ],
   "source": [
    "df.loc[:, \"point\"]"
   ]
  },
  {
   "cell_type": "code",
   "execution_count": 28,
   "id": "f05f52b6",
   "metadata": {},
   "outputs": [
    {
     "data": {
      "text/html": [
       "<div>\n",
       "<style scoped>\n",
       "    .dataframe tbody tr th:only-of-type {\n",
       "        vertical-align: middle;\n",
       "    }\n",
       "\n",
       "    .dataframe tbody tr th {\n",
       "        vertical-align: top;\n",
       "    }\n",
       "\n",
       "    .dataframe thead th {\n",
       "        text-align: right;\n",
       "    }\n",
       "</style>\n",
       "<table border=\"1\" class=\"dataframe\">\n",
       "  <thead>\n",
       "    <tr style=\"text-align: right;\">\n",
       "      <th>Info</th>\n",
       "      <th>year</th>\n",
       "      <th>name</th>\n",
       "    </tr>\n",
       "    <tr>\n",
       "      <th>Order</th>\n",
       "      <th></th>\n",
       "      <th></th>\n",
       "    </tr>\n",
       "  </thead>\n",
       "  <tbody>\n",
       "    <tr>\n",
       "      <th>one</th>\n",
       "      <td>2014</td>\n",
       "      <td>dongyo</td>\n",
       "    </tr>\n",
       "    <tr>\n",
       "      <th>two</th>\n",
       "      <td>2015</td>\n",
       "      <td>ara</td>\n",
       "    </tr>\n",
       "    <tr>\n",
       "      <th>threes</th>\n",
       "      <td>2016</td>\n",
       "      <td>hoon</td>\n",
       "    </tr>\n",
       "    <tr>\n",
       "      <th>four</th>\n",
       "      <td>2017</td>\n",
       "      <td>jameng</td>\n",
       "    </tr>\n",
       "    <tr>\n",
       "      <th>five</th>\n",
       "      <td>2018</td>\n",
       "      <td>hoon</td>\n",
       "    </tr>\n",
       "  </tbody>\n",
       "</table>\n",
       "</div>"
      ],
      "text/plain": [
       "Info    year    name\n",
       "Order               \n",
       "one     2014  dongyo\n",
       "two     2015     ara\n",
       "threes  2016    hoon\n",
       "four    2017  jameng\n",
       "five    2018    hoon"
      ]
     },
     "execution_count": 28,
     "metadata": {},
     "output_type": "execute_result"
    }
   ],
   "source": [
    "df.loc[:, ['year', 'name']]"
   ]
  },
  {
   "cell_type": "code",
   "execution_count": 29,
   "id": "592b10cd",
   "metadata": {},
   "outputs": [
    {
     "data": {
      "text/html": [
       "<div>\n",
       "<style scoped>\n",
       "    .dataframe tbody tr th:only-of-type {\n",
       "        vertical-align: middle;\n",
       "    }\n",
       "\n",
       "    .dataframe tbody tr th {\n",
       "        vertical-align: top;\n",
       "    }\n",
       "\n",
       "    .dataframe thead th {\n",
       "        text-align: right;\n",
       "    }\n",
       "</style>\n",
       "<table border=\"1\" class=\"dataframe\">\n",
       "  <thead>\n",
       "    <tr style=\"text-align: right;\">\n",
       "      <th>Info</th>\n",
       "      <th>year</th>\n",
       "      <th>name</th>\n",
       "    </tr>\n",
       "    <tr>\n",
       "      <th>Order</th>\n",
       "      <th></th>\n",
       "      <th></th>\n",
       "    </tr>\n",
       "  </thead>\n",
       "  <tbody>\n",
       "    <tr>\n",
       "      <th>one</th>\n",
       "      <td>2014</td>\n",
       "      <td>dongyo</td>\n",
       "    </tr>\n",
       "    <tr>\n",
       "      <th>two</th>\n",
       "      <td>2015</td>\n",
       "      <td>ara</td>\n",
       "    </tr>\n",
       "    <tr>\n",
       "      <th>threes</th>\n",
       "      <td>2016</td>\n",
       "      <td>hoon</td>\n",
       "    </tr>\n",
       "    <tr>\n",
       "      <th>four</th>\n",
       "      <td>2017</td>\n",
       "      <td>jameng</td>\n",
       "    </tr>\n",
       "    <tr>\n",
       "      <th>five</th>\n",
       "      <td>2018</td>\n",
       "      <td>hoon</td>\n",
       "    </tr>\n",
       "  </tbody>\n",
       "</table>\n",
       "</div>"
      ],
      "text/plain": [
       "Info    year    name\n",
       "Order               \n",
       "one     2014  dongyo\n",
       "two     2015     ara\n",
       "threes  2016    hoon\n",
       "four    2017  jameng\n",
       "five    2018    hoon"
      ]
     },
     "execution_count": 29,
     "metadata": {},
     "output_type": "execute_result"
    }
   ],
   "source": [
    "df[['year', 'name']]"
   ]
  },
  {
   "cell_type": "markdown",
   "id": "812303fb",
   "metadata": {},
   "source": [
    "---\n",
    "loc[] 함수를 이용해서 행과 열에 동시에 범위 인덱싱도 할 수 있다."
   ]
  },
  {
   "cell_type": "code",
   "execution_count": 30,
   "id": "641bb858",
   "metadata": {},
   "outputs": [
    {
     "data": {
      "text/html": [
       "<div>\n",
       "<style scoped>\n",
       "    .dataframe tbody tr th:only-of-type {\n",
       "        vertical-align: middle;\n",
       "    }\n",
       "\n",
       "    .dataframe tbody tr th {\n",
       "        vertical-align: top;\n",
       "    }\n",
       "\n",
       "    .dataframe thead th {\n",
       "        text-align: right;\n",
       "    }\n",
       "</style>\n",
       "<table border=\"1\" class=\"dataframe\">\n",
       "  <thead>\n",
       "    <tr style=\"text-align: right;\">\n",
       "      <th>Info</th>\n",
       "      <th>year</th>\n",
       "      <th>point</th>\n",
       "      <th>penalty</th>\n",
       "    </tr>\n",
       "    <tr>\n",
       "      <th>Order</th>\n",
       "      <th></th>\n",
       "      <th></th>\n",
       "      <th></th>\n",
       "    </tr>\n",
       "  </thead>\n",
       "  <tbody>\n",
       "    <tr>\n",
       "      <th>threes</th>\n",
       "      <td>2016</td>\n",
       "      <td>3.6</td>\n",
       "      <td>0.3</td>\n",
       "    </tr>\n",
       "    <tr>\n",
       "      <th>four</th>\n",
       "      <td>2017</td>\n",
       "      <td>2.4</td>\n",
       "      <td>0.4</td>\n",
       "    </tr>\n",
       "    <tr>\n",
       "      <th>five</th>\n",
       "      <td>2018</td>\n",
       "      <td>2.9</td>\n",
       "      <td>0.5</td>\n",
       "    </tr>\n",
       "  </tbody>\n",
       "</table>\n",
       "</div>"
      ],
      "text/plain": [
       "Info    year  point  penalty\n",
       "Order                       \n",
       "threes  2016    3.6      0.3\n",
       "four    2017    2.4      0.4\n",
       "five    2018    2.9      0.5"
      ]
     },
     "execution_count": 30,
     "metadata": {},
     "output_type": "execute_result"
    }
   ],
   "source": [
    "df.loc[\"threes\": \"five\", \"year\": \"penalty\"]"
   ]
  },
  {
   "cell_type": "markdown",
   "id": "710a4db4",
   "metadata": {},
   "source": [
    "loc[] 함수를 이용한 인덱싱은 행을 우선순위로 하여 무조건 입력되어야 되고  \n",
    "뒤에 인자를 추가해서 칼럼명을 자유롭게 익뎅싱 할 수 있다."
   ]
  },
  {
   "cell_type": "markdown",
   "id": "9e6f7a29",
   "metadata": {},
   "source": [
    "---\n",
    "새로운 행을 추가하는 방법도 열과 마찬가지로  \n",
    "일반적인 행을 선택하는 방식에 대입해주는 식 "
   ]
  },
  {
   "cell_type": "code",
   "execution_count": 43,
   "id": "93b689dd",
   "metadata": {},
   "outputs": [],
   "source": [
    "df.loc['seven'] = ['Cho', 2017, 4.0, 1]"
   ]
  },
  {
   "cell_type": "code",
   "execution_count": 44,
   "id": "0af0e01b",
   "metadata": {},
   "outputs": [
    {
     "data": {
      "text/html": [
       "<div>\n",
       "<style scoped>\n",
       "    .dataframe tbody tr th:only-of-type {\n",
       "        vertical-align: middle;\n",
       "    }\n",
       "\n",
       "    .dataframe tbody tr th {\n",
       "        vertical-align: top;\n",
       "    }\n",
       "\n",
       "    .dataframe thead th {\n",
       "        text-align: right;\n",
       "    }\n",
       "</style>\n",
       "<table border=\"1\" class=\"dataframe\">\n",
       "  <thead>\n",
       "    <tr style=\"text-align: right;\">\n",
       "      <th>Info</th>\n",
       "      <th>name</th>\n",
       "      <th>year</th>\n",
       "      <th>point</th>\n",
       "      <th>penalty</th>\n",
       "    </tr>\n",
       "    <tr>\n",
       "      <th>Order</th>\n",
       "      <th></th>\n",
       "      <th></th>\n",
       "      <th></th>\n",
       "      <th></th>\n",
       "    </tr>\n",
       "  </thead>\n",
       "  <tbody>\n",
       "    <tr>\n",
       "      <th>one</th>\n",
       "      <td>dongyo</td>\n",
       "      <td>2014</td>\n",
       "      <td>1.5</td>\n",
       "      <td>0.1</td>\n",
       "    </tr>\n",
       "    <tr>\n",
       "      <th>two</th>\n",
       "      <td>ara</td>\n",
       "      <td>2015</td>\n",
       "      <td>1.7</td>\n",
       "      <td>0.2</td>\n",
       "    </tr>\n",
       "    <tr>\n",
       "      <th>threes</th>\n",
       "      <td>hoon</td>\n",
       "      <td>2016</td>\n",
       "      <td>3.6</td>\n",
       "      <td>0.3</td>\n",
       "    </tr>\n",
       "    <tr>\n",
       "      <th>four</th>\n",
       "      <td>jameng</td>\n",
       "      <td>2017</td>\n",
       "      <td>2.4</td>\n",
       "      <td>0.4</td>\n",
       "    </tr>\n",
       "    <tr>\n",
       "      <th>five</th>\n",
       "      <td>hoon</td>\n",
       "      <td>2018</td>\n",
       "      <td>2.9</td>\n",
       "      <td>0.5</td>\n",
       "    </tr>\n",
       "    <tr>\n",
       "      <th>seven</th>\n",
       "      <td>Cho</td>\n",
       "      <td>2017</td>\n",
       "      <td>4.0</td>\n",
       "      <td>1.0</td>\n",
       "    </tr>\n",
       "  </tbody>\n",
       "</table>\n",
       "</div>"
      ],
      "text/plain": [
       "Info      name  year  point  penalty\n",
       "Order                               \n",
       "one     dongyo  2014    1.5      0.1\n",
       "two        ara  2015    1.7      0.2\n",
       "threes    hoon  2016    3.6      0.3\n",
       "four    jameng  2017    2.4      0.4\n",
       "five      hoon  2018    2.9      0.5\n",
       "seven      Cho  2017    4.0      1.0"
      ]
     },
     "execution_count": 44,
     "metadata": {},
     "output_type": "execute_result"
    }
   ],
   "source": [
    "df"
   ]
  },
  {
   "cell_type": "markdown",
   "id": "889760b9",
   "metadata": {},
   "source": [
    "---\n",
    "__.iloc__함수는 numpy의 array 인덱싱 방식으로 가져올 때 쓰는 것이다.  \n",
    "즉, 칼럼명이 아니라 **index숫자로서** 가져올 때 쓴다"
   ]
  },
  {
   "cell_type": "markdown",
   "id": "ab9cd50b",
   "metadata": {},
   "source": [
    "리스트를 인덱싱하는 것과 비슷하게 숫자로 인덱싱한다고 생각하면 쉬움 "
   ]
  },
  {
   "cell_type": "code",
   "execution_count": 45,
   "id": "4b5e0a1a",
   "metadata": {},
   "outputs": [
    {
     "data": {
      "text/plain": [
       "Info\n",
       "name       jameng\n",
       "year         2017\n",
       "point         2.4\n",
       "penalty       0.4\n",
       "Name: four, dtype: object"
      ]
     },
     "execution_count": 45,
     "metadata": {},
     "output_type": "execute_result"
    }
   ],
   "source": [
    "df.iloc[3] # iloc[3]은 4번째 행을 가져온다. array 인덱싱과 유사 "
   ]
  },
  {
   "cell_type": "markdown",
   "id": "e05bd175",
   "metadata": {},
   "source": [
    "범위 인덱싱도 가능함 "
   ]
  },
  {
   "cell_type": "code",
   "execution_count": 46,
   "id": "e6e448c6",
   "metadata": {},
   "outputs": [
    {
     "data": {
      "text/html": [
       "<div>\n",
       "<style scoped>\n",
       "    .dataframe tbody tr th:only-of-type {\n",
       "        vertical-align: middle;\n",
       "    }\n",
       "\n",
       "    .dataframe tbody tr th {\n",
       "        vertical-align: top;\n",
       "    }\n",
       "\n",
       "    .dataframe thead th {\n",
       "        text-align: right;\n",
       "    }\n",
       "</style>\n",
       "<table border=\"1\" class=\"dataframe\">\n",
       "  <thead>\n",
       "    <tr style=\"text-align: right;\">\n",
       "      <th>Info</th>\n",
       "      <th>name</th>\n",
       "      <th>year</th>\n",
       "    </tr>\n",
       "    <tr>\n",
       "      <th>Order</th>\n",
       "      <th></th>\n",
       "      <th></th>\n",
       "    </tr>\n",
       "  </thead>\n",
       "  <tbody>\n",
       "    <tr>\n",
       "      <th>four</th>\n",
       "      <td>jameng</td>\n",
       "      <td>2017</td>\n",
       "    </tr>\n",
       "    <tr>\n",
       "      <th>five</th>\n",
       "      <td>hoon</td>\n",
       "      <td>2018</td>\n",
       "    </tr>\n",
       "  </tbody>\n",
       "</table>\n",
       "</div>"
      ],
      "text/plain": [
       "Info     name  year\n",
       "Order              \n",
       "four   jameng  2017\n",
       "five     hoon  2018"
      ]
     },
     "execution_count": 46,
     "metadata": {},
     "output_type": "execute_result"
    }
   ],
   "source": [
    "df.iloc[3:5, 0:2]"
   ]
  },
  {
   "cell_type": "markdown",
   "id": "3723b2bb",
   "metadata": {},
   "source": [
    "간격을 띄엄띄엄으로 행과 열을 가져오고 싶다면"
   ]
  },
  {
   "cell_type": "code",
   "execution_count": 47,
   "id": "3209984e",
   "metadata": {},
   "outputs": [
    {
     "data": {
      "text/html": [
       "<div>\n",
       "<style scoped>\n",
       "    .dataframe tbody tr th:only-of-type {\n",
       "        vertical-align: middle;\n",
       "    }\n",
       "\n",
       "    .dataframe tbody tr th {\n",
       "        vertical-align: top;\n",
       "    }\n",
       "\n",
       "    .dataframe thead th {\n",
       "        text-align: right;\n",
       "    }\n",
       "</style>\n",
       "<table border=\"1\" class=\"dataframe\">\n",
       "  <thead>\n",
       "    <tr style=\"text-align: right;\">\n",
       "      <th>Info</th>\n",
       "      <th>year</th>\n",
       "      <th>point</th>\n",
       "    </tr>\n",
       "    <tr>\n",
       "      <th>Order</th>\n",
       "      <th></th>\n",
       "      <th></th>\n",
       "    </tr>\n",
       "  </thead>\n",
       "  <tbody>\n",
       "    <tr>\n",
       "      <th>one</th>\n",
       "      <td>2014</td>\n",
       "      <td>1.5</td>\n",
       "    </tr>\n",
       "    <tr>\n",
       "      <th>two</th>\n",
       "      <td>2015</td>\n",
       "      <td>1.7</td>\n",
       "    </tr>\n",
       "    <tr>\n",
       "      <th>four</th>\n",
       "      <td>2017</td>\n",
       "      <td>2.4</td>\n",
       "    </tr>\n",
       "  </tbody>\n",
       "</table>\n",
       "</div>"
      ],
      "text/plain": [
       "Info   year  point\n",
       "Order             \n",
       "one    2014    1.5\n",
       "two    2015    1.7\n",
       "four   2017    2.4"
      ]
     },
     "execution_count": 47,
     "metadata": {},
     "output_type": "execute_result"
    }
   ],
   "source": [
    "df.iloc[[0, 1, 3], [1, 2]] # 1,2,4 번째 행 / 2, 3번째 열을 가져옴 "
   ]
  },
  {
   "cell_type": "markdown",
   "id": "70598eb5",
   "metadata": {},
   "source": [
    "특정값 하나만 가져오고 싶다면 "
   ]
  },
  {
   "cell_type": "code",
   "execution_count": 48,
   "id": "0bfd74da",
   "metadata": {
    "scrolled": true
   },
   "outputs": [
    {
     "data": {
      "text/plain": [
       "1.7"
      ]
     },
     "execution_count": 48,
     "metadata": {},
     "output_type": "execute_result"
    }
   ],
   "source": [
    "df.iloc[1, 2]"
   ]
  },
  {
   "cell_type": "markdown",
   "id": "00db4f08",
   "metadata": {},
   "source": [
    "### Booleam 인덱싱 하기"
   ]
  },
  {
   "cell_type": "code",
   "execution_count": 52,
   "id": "9a140b51",
   "metadata": {},
   "outputs": [
    {
     "data": {
      "text/plain": [
       "Order\n",
       "one       False\n",
       "two        True\n",
       "threes     True\n",
       "four       True\n",
       "five       True\n",
       "seven      True\n",
       "Name: year, dtype: bool"
      ]
     },
     "execution_count": 52,
     "metadata": {},
     "output_type": "execute_result"
    }
   ],
   "source": [
    "df['year'] > 2014 # series 형태로 마스크가 얻어짐"
   ]
  },
  {
   "cell_type": "markdown",
   "id": "665a1f4a",
   "metadata": {},
   "source": [
    "**마스크 :전체 데이터 중 기준이 되는 열과 그 가운데 특정 성분을 비교한 조건문**  \n",
    "마스크를 인덱스 자리에 넣은 .loc함수를 이용하면 원하는 행을 선택할 수 있음 \n"
   ]
  },
  {
   "cell_type": "code",
   "execution_count": 53,
   "id": "e46efc3c",
   "metadata": {},
   "outputs": [
    {
     "data": {
      "text/html": [
       "<div>\n",
       "<style scoped>\n",
       "    .dataframe tbody tr th:only-of-type {\n",
       "        vertical-align: middle;\n",
       "    }\n",
       "\n",
       "    .dataframe tbody tr th {\n",
       "        vertical-align: top;\n",
       "    }\n",
       "\n",
       "    .dataframe thead th {\n",
       "        text-align: right;\n",
       "    }\n",
       "</style>\n",
       "<table border=\"1\" class=\"dataframe\">\n",
       "  <thead>\n",
       "    <tr style=\"text-align: right;\">\n",
       "      <th>Info</th>\n",
       "      <th>name</th>\n",
       "      <th>year</th>\n",
       "      <th>point</th>\n",
       "      <th>penalty</th>\n",
       "    </tr>\n",
       "    <tr>\n",
       "      <th>Order</th>\n",
       "      <th></th>\n",
       "      <th></th>\n",
       "      <th></th>\n",
       "      <th></th>\n",
       "    </tr>\n",
       "  </thead>\n",
       "  <tbody>\n",
       "    <tr>\n",
       "      <th>two</th>\n",
       "      <td>ara</td>\n",
       "      <td>2015</td>\n",
       "      <td>1.7</td>\n",
       "      <td>0.2</td>\n",
       "    </tr>\n",
       "    <tr>\n",
       "      <th>threes</th>\n",
       "      <td>hoon</td>\n",
       "      <td>2016</td>\n",
       "      <td>3.6</td>\n",
       "      <td>0.3</td>\n",
       "    </tr>\n",
       "    <tr>\n",
       "      <th>four</th>\n",
       "      <td>jameng</td>\n",
       "      <td>2017</td>\n",
       "      <td>2.4</td>\n",
       "      <td>0.4</td>\n",
       "    </tr>\n",
       "    <tr>\n",
       "      <th>five</th>\n",
       "      <td>hoon</td>\n",
       "      <td>2018</td>\n",
       "      <td>2.9</td>\n",
       "      <td>0.5</td>\n",
       "    </tr>\n",
       "    <tr>\n",
       "      <th>seven</th>\n",
       "      <td>Cho</td>\n",
       "      <td>2017</td>\n",
       "      <td>4.0</td>\n",
       "      <td>1.0</td>\n",
       "    </tr>\n",
       "  </tbody>\n",
       "</table>\n",
       "</div>"
      ],
      "text/plain": [
       "Info      name  year  point  penalty\n",
       "Order                               \n",
       "two        ara  2015    1.7      0.2\n",
       "threes    hoon  2016    3.6      0.3\n",
       "four    jameng  2017    2.4      0.4\n",
       "five      hoon  2018    2.9      0.5\n",
       "seven      Cho  2017    4.0      1.0"
      ]
     },
     "execution_count": 53,
     "metadata": {},
     "output_type": "execute_result"
    }
   ],
   "source": [
    "df.loc[df['year'] > 2014, :]"
   ]
  },
  {
   "cell_type": "code",
   "execution_count": 56,
   "id": "78a94b5d",
   "metadata": {},
   "outputs": [
    {
     "data": {
      "text/html": [
       "<div>\n",
       "<style scoped>\n",
       "    .dataframe tbody tr th:only-of-type {\n",
       "        vertical-align: middle;\n",
       "    }\n",
       "\n",
       "    .dataframe tbody tr th {\n",
       "        vertical-align: top;\n",
       "    }\n",
       "\n",
       "    .dataframe thead th {\n",
       "        text-align: right;\n",
       "    }\n",
       "</style>\n",
       "<table border=\"1\" class=\"dataframe\">\n",
       "  <thead>\n",
       "    <tr style=\"text-align: right;\">\n",
       "      <th>Info</th>\n",
       "      <th>name</th>\n",
       "      <th>point</th>\n",
       "    </tr>\n",
       "    <tr>\n",
       "      <th>Order</th>\n",
       "      <th></th>\n",
       "      <th></th>\n",
       "    </tr>\n",
       "  </thead>\n",
       "  <tbody>\n",
       "    <tr>\n",
       "      <th>four</th>\n",
       "      <td>jameng</td>\n",
       "      <td>2.4</td>\n",
       "    </tr>\n",
       "  </tbody>\n",
       "</table>\n",
       "</div>"
      ],
      "text/plain": [
       "Info     name  point\n",
       "Order               \n",
       "four   jameng    2.4"
      ]
     },
     "execution_count": 56,
     "metadata": {},
     "output_type": "execute_result"
    }
   ],
   "source": [
    "df.loc[df['name'] == 'jameng', ['name', 'point']]"
   ]
  },
  {
   "cell_type": "markdown",
   "id": "a0bc4823",
   "metadata": {},
   "source": [
    "만약 조건이 여러개라면 **&**을 사용 "
   ]
  },
  {
   "cell_type": "code",
   "execution_count": 57,
   "id": "82eea698",
   "metadata": {},
   "outputs": [
    {
     "data": {
      "text/html": [
       "<div>\n",
       "<style scoped>\n",
       "    .dataframe tbody tr th:only-of-type {\n",
       "        vertical-align: middle;\n",
       "    }\n",
       "\n",
       "    .dataframe tbody tr th {\n",
       "        vertical-align: top;\n",
       "    }\n",
       "\n",
       "    .dataframe thead th {\n",
       "        text-align: right;\n",
       "    }\n",
       "</style>\n",
       "<table border=\"1\" class=\"dataframe\">\n",
       "  <thead>\n",
       "    <tr style=\"text-align: right;\">\n",
       "      <th>Info</th>\n",
       "      <th>name</th>\n",
       "      <th>year</th>\n",
       "      <th>point</th>\n",
       "      <th>penalty</th>\n",
       "    </tr>\n",
       "    <tr>\n",
       "      <th>Order</th>\n",
       "      <th></th>\n",
       "      <th></th>\n",
       "      <th></th>\n",
       "      <th></th>\n",
       "    </tr>\n",
       "  </thead>\n",
       "  <tbody>\n",
       "    <tr>\n",
       "      <th>four</th>\n",
       "      <td>jameng</td>\n",
       "      <td>2017</td>\n",
       "      <td>2.4</td>\n",
       "      <td>0.4</td>\n",
       "    </tr>\n",
       "    <tr>\n",
       "      <th>five</th>\n",
       "      <td>hoon</td>\n",
       "      <td>2018</td>\n",
       "      <td>2.9</td>\n",
       "      <td>0.5</td>\n",
       "    </tr>\n",
       "  </tbody>\n",
       "</table>\n",
       "</div>"
      ],
      "text/plain": [
       "Info     name  year  point  penalty\n",
       "Order                              \n",
       "four   jameng  2017    2.4      0.4\n",
       "five     hoon  2018    2.9      0.5"
      ]
     },
     "execution_count": 57,
     "metadata": {},
     "output_type": "execute_result"
    }
   ],
   "source": [
    "df.loc[(df['point'] > 2) & (df['point'] < 3 ), : ]"
   ]
  },
  {
   "cell_type": "markdown",
   "id": "2f16e094",
   "metadata": {},
   "source": [
    "#### 조건에 맞게 사용해서 인덱싱 한 행의 특정칼럼에 특정값을 입력할 수 있다!"
   ]
  },
  {
   "cell_type": "code",
   "execution_count": 58,
   "id": "b553a8b7",
   "metadata": {},
   "outputs": [],
   "source": [
    "df.loc[df['point'] > 3, 'penalty'] = 0"
   ]
  },
  {
   "cell_type": "code",
   "execution_count": 59,
   "id": "f508626e",
   "metadata": {},
   "outputs": [
    {
     "data": {
      "text/html": [
       "<div>\n",
       "<style scoped>\n",
       "    .dataframe tbody tr th:only-of-type {\n",
       "        vertical-align: middle;\n",
       "    }\n",
       "\n",
       "    .dataframe tbody tr th {\n",
       "        vertical-align: top;\n",
       "    }\n",
       "\n",
       "    .dataframe thead th {\n",
       "        text-align: right;\n",
       "    }\n",
       "</style>\n",
       "<table border=\"1\" class=\"dataframe\">\n",
       "  <thead>\n",
       "    <tr style=\"text-align: right;\">\n",
       "      <th>Info</th>\n",
       "      <th>name</th>\n",
       "      <th>year</th>\n",
       "      <th>point</th>\n",
       "      <th>penalty</th>\n",
       "    </tr>\n",
       "    <tr>\n",
       "      <th>Order</th>\n",
       "      <th></th>\n",
       "      <th></th>\n",
       "      <th></th>\n",
       "      <th></th>\n",
       "    </tr>\n",
       "  </thead>\n",
       "  <tbody>\n",
       "    <tr>\n",
       "      <th>one</th>\n",
       "      <td>dongyo</td>\n",
       "      <td>2014</td>\n",
       "      <td>1.5</td>\n",
       "      <td>0.1</td>\n",
       "    </tr>\n",
       "    <tr>\n",
       "      <th>two</th>\n",
       "      <td>ara</td>\n",
       "      <td>2015</td>\n",
       "      <td>1.7</td>\n",
       "      <td>0.2</td>\n",
       "    </tr>\n",
       "    <tr>\n",
       "      <th>threes</th>\n",
       "      <td>hoon</td>\n",
       "      <td>2016</td>\n",
       "      <td>3.6</td>\n",
       "      <td>0.0</td>\n",
       "    </tr>\n",
       "    <tr>\n",
       "      <th>four</th>\n",
       "      <td>jameng</td>\n",
       "      <td>2017</td>\n",
       "      <td>2.4</td>\n",
       "      <td>0.4</td>\n",
       "    </tr>\n",
       "    <tr>\n",
       "      <th>five</th>\n",
       "      <td>hoon</td>\n",
       "      <td>2018</td>\n",
       "      <td>2.9</td>\n",
       "      <td>0.5</td>\n",
       "    </tr>\n",
       "    <tr>\n",
       "      <th>seven</th>\n",
       "      <td>Cho</td>\n",
       "      <td>2017</td>\n",
       "      <td>4.0</td>\n",
       "      <td>0.0</td>\n",
       "    </tr>\n",
       "  </tbody>\n",
       "</table>\n",
       "</div>"
      ],
      "text/plain": [
       "Info      name  year  point  penalty\n",
       "Order                               \n",
       "one     dongyo  2014    1.5      0.1\n",
       "two        ara  2015    1.7      0.2\n",
       "threes    hoon  2016    3.6      0.0\n",
       "four    jameng  2017    2.4      0.4\n",
       "five      hoon  2018    2.9      0.5\n",
       "seven      Cho  2017    4.0      0.0"
      ]
     },
     "execution_count": 59,
     "metadata": {},
     "output_type": "execute_result"
    }
   ],
   "source": [
    "df"
   ]
  },
  {
   "cell_type": "markdown",
   "id": "8f076d4f",
   "metadata": {},
   "source": [
    "---\n",
    "# #끄읕"
   ]
  },
  {
   "cell_type": "code",
   "execution_count": null,
   "id": "59da2c52",
   "metadata": {},
   "outputs": [],
   "source": []
  }
 ],
 "metadata": {
  "kernelspec": {
   "display_name": "Python 3",
   "language": "python",
   "name": "python3"
  },
  "language_info": {
   "codemirror_mode": {
    "name": "ipython",
    "version": 3
   },
   "file_extension": ".py",
   "mimetype": "text/x-python",
   "name": "python",
   "nbconvert_exporter": "python",
   "pygments_lexer": "ipython3",
   "version": "3.8.8"
  }
 },
 "nbformat": 4,
 "nbformat_minor": 5
}
