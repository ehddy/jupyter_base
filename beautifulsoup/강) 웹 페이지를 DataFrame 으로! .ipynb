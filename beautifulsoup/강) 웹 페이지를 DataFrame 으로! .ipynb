{
 "cells": [
  {
   "cell_type": "code",
   "execution_count": 9,
   "id": "fbd600e3",
   "metadata": {},
   "outputs": [],
   "source": [
    "import time\n",
    "import requests\n",
    "from bs4 import BeautifulSoup\n",
    "import pandas as pd"
   ]
  },
  {
   "cell_type": "code",
   "execution_count": 2,
   "id": "6b1685df",
   "metadata": {},
   "outputs": [],
   "source": [
    "# 빈리스트 생성\n",
    "records = []\n"
   ]
  },
  {
   "cell_type": "code",
   "execution_count": 3,
   "id": "96be3eb8",
   "metadata": {},
   "outputs": [],
   "source": [
    "# 시작 페이지 지정 \n",
    "page_num = 1"
   ]
  },
  {
   "cell_type": "code",
   "execution_count": 4,
   "id": "b41a5f13",
   "metadata": {},
   "outputs": [],
   "source": [
    "# headers 지정 \n",
    "headers = {\n",
    "    'user-agent': 'Mozilla/5.0 (Macintosh; Intel Mac OS X 11_2_3) AppleWebKit/537.36 (KHTML, like Gecko) Chrome/89.0.4389.114 Safari/537.36',\n",
    "}"
   ]
  },
  {
   "cell_type": "code",
   "execution_count": 6,
   "id": "72e153ad",
   "metadata": {},
   "outputs": [
    {
     "name": "stdout",
     "output_type": "stream",
     "text": [
      "87\n",
      "[['닌텐도 스위치 게임팩케이스 4in1', '7,510', 'https://www.ssg.com//item.ssgcdn.com/20/97/62/item/1000054629720_i1_232.jpg'], ['Coms 닌텐도 DS Lite USB 충전케이블 1.2m Coms 닌텐도 DS Lite USB 충전케이블 1.2m', '7,590', 'https://www.ssg.com//item.ssgcdn.com/20/97/62/item/1000054629720_i2_232.jpg'], ['갤럭시탭 닌텐도스위치 거치대 각도조절 스탠드', '7,625', 'https://www.ssg.com//item.ssgcdn.com/46/42/89/item/1000136894246_i1_232.jpg'], ['갤럭시탭 닌텐도스위치 거치대 각도조절 스탠드', '7,670', 'https://www.ssg.com//item.ssgcdn.com/46/42/89/item/1000136894246_i2_232.jpg'], ['조이콘스트랩 bob 닌텐도 스위치 조이콘 전용 손목 스트랩 홀더 빠른배송', '7,750', 'https://www.ssg.com//item.ssgcdn.com/28/42/57/item/1000076574228_i1_232.jpg'], ['조이콘스트랩 bob 닌텐도 스위치 조이콘 전용 손목 스트랩 홀더 닌텐도스트랩', '7,750', 'https://www.ssg.com//item.ssgcdn.com/28/42/57/item/1000076574228_i2_232.jpg'], ['조이콘스트랩 bob 닌텐도 스위치 조이콘 전용 손목 스트랩 홀더 빠른배송', '7,750', 'https://www.ssg.com//item.ssgcdn.com/29/66/44/item/1000069446629_i1_232.jpg'], ['Coms 닌텐도 DS Lite USB 충전케이블 1.2m', '7,840', 'https://www.ssg.com//item.ssgcdn.com/29/66/44/item/1000069446629_i2_232.jpg'], ['갤럭시탭 닌텐도스위치 거치대 각도조절 스탠드', '7,841', 'https://www.ssg.com//item.ssgcdn.com/59/79/77/item/1000095777959_i1_232.jpg'], ['3 팩 헤스티아 Goods 강화유리 화면보호필름 액정보호필름 닌텐도스위치', '7,850', 'https://www.ssg.com//item.ssgcdn.com/59/79/77/item/1000095777959_i2_232.jpg'], ['고양이발 닌텐도스위치 게임타이틀 수납케이스', '7,900', 'https://www.ssg.com//item.ssgcdn.com/18/36/00/item/1000092003618_i1_232.jpg'], ['제이케이 몰 닌텐도 스위치 NS C Type 충전케이블 1.5M', '8,300', 'https://www.ssg.com//item.ssgcdn.com/18/36/00/item/1000092003618_i2_232.jpg'], ['라이트 보호스티커 스위치 투명 액정필름 닌텐도 강화유리 1매입', '8,360', 'https://www.ssg.com//item.ssgcdn.com/53/79/77/item/1000095777953_i1_232.jpg'], ['화면보호필름 액정보호필름 닌텐도스위치 (2 팩) by TalkWorks - 스크레치 방', '8,440', 'https://www.ssg.com//item.ssgcdn.com/53/79/77/item/1000095777953_i2_232.jpg'], ['갤럭시탭 닌텐도스위치 거치대 각도조절 스탠드', '8,530', 'https://www.ssg.com//item.ssgcdn.com/99/84/83/item/1000136838499_i1_232.jpg'], ['닌텐도 스위치 라이트 9H 강화글라스 2장 구성/ALLDA', '8,630', 'https://www.ssg.com//item.ssgcdn.com/99/84/83/item/1000136838499_i2_232.jpg'], ['닌텐도 스위치 NS USB OTG A to C Type 변환젠더', '8,730', 'https://www.ssg.com//item.ssgcdn.com/42/57/46/item/1000122465742_i1_232.jpg'], ['닌텐도 스위치 라이트 저반사 Light 지문방지 액정보호필름2매', '8,820', 'https://www.ssg.com//item.ssgcdn.com/42/57/46/item/1000122465742_i2_232.jpg'], ['닌텐도 스위치 라이트 9H 강화글라스 2장 구성ALLDA', '8,840', 'https://www.ssg.com//item.ssgcdn.com/48/53/17/item/1000068175348_i1_232.jpg'], ['스컬앤코 닌텐도스위치 아날로그 스틱커버 세트 고급형-스냅케이스', '9,000', 'https://www.ssg.com//item.ssgcdn.com/54/40/26/item/1000072264054_i1_232.jpg'], ['닌텐도 스위치 라이트 9H 강화글라스 2장 구성/ALLDA', '9,020', 'https://www.ssg.com//item.ssgcdn.com/10/77/37/item/1000130377710_i1_232.jpg'], ['닌텐도 스위치 라이트 9H 강화글라스 2장 구성/ALLDA', '9,020', 'https://www.ssg.com//item.ssgcdn.com/09/21/82/item/1000058822109_i1_232.jpg'], ['닌텐도 스위치 라이트 9H 강화글라스 2장 구성/ALLDA', '9,020', 'https://www.ssg.com//item.ssgcdn.com/56/61/24/item/1000131246156_i1_232.jpg'], ['닌텐도 스위치 암즈 피트니스 복싱 너클그립 조이콘 컨트롤러 악세사리 ND110', '9,240', 'https://www.ssg.com//item.ssgcdn.com/56/61/24/item/1000131246156_i2_232.jpg'], ['닌텐도 스위치 암즈 피트니스 복싱 너클그립 조이콘 컨트롤러 악세사리 ND110', '9,240', 'https://www.ssg.com//item.ssgcdn.com/64/26/31/item/1000122312664_i1_232.jpg'], ['닌텐도 스위치 NS USB OTG A to C Type 변환젠더', '9,370', 'https://www.ssg.com//item.ssgcdn.com/64/26/31/item/1000122312664_i2_232.jpg'], ['닌텐도 스위치 NS USB OTG A to C Type 변환젠더', '9,370', 'https://www.ssg.com//item.ssgcdn.com/08/78/26/item/1000075267808_i1_232.jpg'], ['ONbob 매직쉴드 닌텐도스위치 전용 강화유리 보호필름ON', '9,400', 'https://www.ssg.com//item.ssgcdn.com/08/78/26/item/1000075267808_i2_232.jpg'], ['닌텐도 스위치 라이트 9H 강화글라스 2장 구성/ALLDA', '9,440', 'https://www.ssg.com//item.ssgcdn.com/23/93/73/item/1000113739323_i1_232.jpg'], ['갤럭시탭 닌텐도스위치 거치대 각도조절 스탠드', '9,490', 'https://www.ssg.com//item.ssgcdn.com/02/22/58/item/1000049582202_i1_232.jpg'], ['닌텐도 스위치 라이트 9H 강화글라스 2장 구성ALLDA', '9,500', 'https://www.ssg.com//item.ssgcdn.com/02/22/58/item/1000049582202_i2_232.jpg'], ['구성ALLDA 9H 강화글라스 2장 닌텐도 라이트 스위치', '9,500', 'https://www.ssg.com//item.ssgcdn.com/25/30/35/item/1000113353025_i1_232.jpg'], ['ONcoms 닌텐도 DS Lite 차량용 시거 충전 케이블 15mON', '9,530', 'https://www.ssg.com//item.ssgcdn.com/29/92/80/item/1000059809229_i1_232.jpg'], ['9H 스위치 2장 라이트 구성ALLDA 강화글라스 닌텐도', '9,530', 'https://www.ssg.com//item.ssgcdn.com/29/92/80/item/1000059809229_i2_232.jpg'], ['닌텐도 스위치 게임팩케이스 4in1', '9,550', 'https://www.ssg.com//item.ssgcdn.com/69/25/02/item/1000103022569_i1_232.jpg'], ['[해외]ArimarketBuit-in 업그레이드 된 PD 칩이있는 Nintendo Switch', '9,584', 'https://www.ssg.com//item.ssgcdn.com/69/25/02/item/1000103022569_i2_232.jpg'], ['닌텐도스위치 닌텐도스위치패드 모즈 전용패드 그립핸들 조이콘 패드', '9,680', 'https://www.ssg.com//item.ssgcdn.com/37/93/03/item/1000103039337_i1_232.jpg'], ['닌텐도스위치패드 모즈 닌텐도스위치 전용패드 그립핸들 조이콘 패드', '9,680', 'https://www.ssg.com//item.ssgcdn.com/37/93/03/item/1000103039337_i2_232.jpg'], ['닌텐도스위치 닌텐도스위치패드 모즈 전용패드 그립핸들 조이콘 패드', '9,680', 'https://www.ssg.com//item.ssgcdn.com/51/02/56/item/1000095560251_i1_232.jpg'], ['닌텐도 스위치 라이트 9H 강화글라스 2장 구성ALLDA', '9,882', 'https://www.ssg.com//item.ssgcdn.com/51/02/56/item/1000095560251_i2_232.jpg'], ['닌텐도 스위치 게임팩케이스 4in1', '9,980', 'https://www.ssg.com//item.ssgcdn.com/21/28/47/item/1000102472821_i1_232.jpg'], ['닌텐도 스위치 게임팩케이스 4in1', '9,980', 'https://www.ssg.com//item.ssgcdn.com/48/24/91/item/1000136912448_i1_232.jpg'], ['닌텐도 스위치 게임팩케이스 4in1', '9,980', 'https://www.ssg.com//item.ssgcdn.com/95/24/91/item/1000136912495_i1_232.jpg'], ['아트박스/뷰에스피 닌텐도 스위치 블루라이트+글리터핑크 후면호필름 1매', '10,000', 'https://www.ssg.com//item.ssgcdn.com/88/39/47/item/1000102473988_i1_232.jpg'], ['[신박한 쇼핑]_닌텐도 스위치 모서리 보호 에어 쿠션 하드 케이스', '10,125', 'https://www.ssg.com//item.ssgcdn.com/71/66/36/item/1000144366671_i1_232.jpg'], ['[신박한 쇼핑]_닌텐도 스위치 라이트 크리스탈 TPU 컬러젤리 케이스', '10,125', 'https://www.ssg.com//item.ssgcdn.com/72/20/83/item/1000136832072_i1_232.jpg'], ['닌텐도 스위치 라이트 9H 강화글라스 2장 구성/ALLDA', '10,150', 'https://www.ssg.com//item.ssgcdn.com/72/20/83/item/1000136832072_i2_232.jpg'], ['닌텐도 스위치 라이트 9H 강화글라스 2장 구성/ALLDA', '10,150', 'https://www.ssg.com//item.ssgcdn.com/18/05/73/item/1000079730518_i1_232.jpg'], ['국민닷컴 닌텐도스위치 닌텐도 스위치 낚시 조이스틱 낚시 스피릿 피싱스타', '10,156', 'https://www.ssg.com//item.ssgcdn.com/18/05/73/item/1000079730518_i2_232.jpg'], ['대운닷컴 닌텐도스위치 닌텐도 스위치 낚시 조이스틱 낚시 스피릿 피싱스타', '10,160', 'https://www.ssg.com//item.ssgcdn.com/04/23/78/item/1000125782304_i1_232.jpg'], ['닌텐도 스위치 강화유리 NS 스크린 보호 필름 [W2B2066]', '10,300', 'https://www.ssg.com//item.ssgcdn.com/46/36/76/item/1000141763646_i1_232.jpg'], ['닌텐도 스위치 강화유리 NS 스크린 보호 필름 [W2B2066]', '10,300', 'https://www.ssg.com//item.ssgcdn.com/16/60/03/item/1000095036016_i1_232.jpg'], ['닌텐도 스위치 게임팩케이스 4in1', '10,390', 'https://www.ssg.com//item.ssgcdn.com/06/72/19/item/1000143197206_i1_232.jpg'], ['닌텐도스위치 방탄필름2매. 닌텐도스위치 +67E1AE W67E1AE', '10,400', 'https://www.ssg.com//item.ssgcdn.com/91/35/26/item/1000075263591_i1_232.jpg'], ['[대원] 닌텐도 동물의 숲 봉제 인형 여울 하복 (S) [무료배송]', '10,440', 'https://www.ssg.com//item.ssgcdn.com/91/35/26/item/1000075263591_i2_232.jpg'], ['제이케이 몰 모즈 닌텐도 스위치 조이콘 전용패드 그립핸들 조이콘 패드', '10,480', 'https://www.ssg.com//item.ssgcdn.com/52/63/18/item/1000112186352_i1_232.jpg'], ['닌텐도 스위치 암즈 피트니스 복싱 너클그립 조이콘 컨트롤러 악세사리 ND110', '10,640', 'https://www.ssg.com//item.ssgcdn.com/52/63/18/item/1000112186352_i2_232.jpg'], ['닌텐도 스위치 암즈 피트니스 복싱 너클그립 조이콘 컨트롤러 악세사리 ND110', '10,650', 'https://www.ssg.com//item.ssgcdn.com/72/82/40/item/1000076408272_i1_232.jpg'], ['SSG 닌텐도 스위치 마리오 테니스 에이스 라켓 조이콘 컨트롤러 악세사리 ND108', '10,660', 'https://www.ssg.com//item.ssgcdn.com/72/82/40/item/1000076408272_i2_232.jpg'], ['닌텐도 스위치 NS USB OTG A to C Type 변환젠더', '10,800', 'https://www.ssg.com//item.ssgcdn.com/27/94/60/item/1000079609427_i1_232.jpg'], ['닌텐도 스위치 NS USB OTG A to C Type 변환젠더', '10,800', 'https://www.ssg.com//item.ssgcdn.com/27/94/60/item/1000079609427_i2_232.jpg'], ['3 팩 화면보호필름 액정보호필름 강화유리 닌텐도스위치 라이트 iVoler', '10,850', 'https://www.ssg.com//item.ssgcdn.com/67/38/47/item/1000087473867_i1_232.jpg'], ['lite Rock 휴대용 EVA 스위치라이트가방 닌텐도 space 수납 케이스 파우치', '10,900', 'https://www.ssg.com//item.ssgcdn.com/67/38/47/item/1000087473867_i2_232.jpg'], ['닌텐도 스위치 라이트 0.3mm 9H 시력보호 강화글라스', '10,900', 'https://www.ssg.com//item.ssgcdn.com/05/41/67/item/1000089674105_i1_232.jpg'], ['충격흡수케이스 컬러젤리 TPU 스위치 닌텐도 크리스탈 라이트액정보호', '10,920', 'https://www.ssg.com//item.ssgcdn.com/87/19/02/item/1000103021987_i1_232.jpg'], ['닌텐도 스위치 라이트 9H 강화글라스 2장 구성ALLDA', '10,950', 'https://www.ssg.com//item.ssgcdn.com/87/19/02/item/1000103021987_i2_232.jpg'], ['닌텐도 스위치 라이트 9H 강화글라스 2장 구성ALLDA', '10,960', 'https://www.ssg.com//item.ssgcdn.com/04/89/03/item/1000103038904_i1_232.jpg'], ['닌텐도 스위치 암즈 피트니스 복싱 너클그립 조이콘 컨트롤러 악세사리 ND110', '11,080', 'https://www.ssg.com//item.ssgcdn.com/04/89/03/item/1000103038904_i2_232.jpg'], ['bob 닌텐도스위치 프로콘 전용 3D 보관 파우치 케이스 + 핸드스트랩', '11,280', 'https://www.ssg.com//item.ssgcdn.com/21/15/56/item/1000095561521_i1_232.jpg'], ['스코코 닌텐도스위치 2세대 항균 저반사 액정필름 2매', '11,300', 'https://www.ssg.com//item.ssgcdn.com/21/15/56/item/1000095561521_i2_232.jpg'], ['닌텐도 스위치 강화유리 NS LITE 스크린 프로텍터 [W49AC11]', '11,300', 'https://www.ssg.com//item.ssgcdn.com/56/75/30/item/1000052307556_i1_232.jpg'], ['AUSTOR Carrying Case for Nintendo 2DS Black', '11,640', 'https://www.ssg.com//item.ssgcdn.com/95/47/97/item/1000134974795_i1_232.jpg'], ['AUSTOR Travel Carrying Case for Nintendo 2DS Red', '11,640', 'https://www.ssg.com//item.ssgcdn.com/95/47/97/item/1000134974795_i5_232.jpg'], ['닌텐도 스위치 라이트 나뭇잎 조이콘 버튼 커버 NC002', '11,427', 'https://www.ssg.com//item.ssgcdn.com/74/47/97/item/1000134974774_i1_232.jpg'], ['닌텐도 스위치 나뭇잎 조이콘 엣지 버튼 커버 NC002', '11,427', 'https://www.ssg.com//item.ssgcdn.com/74/47/97/item/1000134974774_i5_232.jpg'], ['LeyuSmart 조이스틱 캡 닌텐도스위치 스위치 라이트 썸 그립 아날로그 스틱', '11,730', 'https://www.ssg.com//item.ssgcdn.com/11/20/91/item/1000121912011_i1_232.jpg'], ['Skull Co 교체용 조이스틱 커버 닌텐도스위치 and 스위치 라이트 수리 부속', '11,780', 'https://www.ssg.com//item.ssgcdn.com/11/20/91/item/1000121912011_i5_232.jpg'], ['닌텐도 스위치 라이트 나뭇잎 조이콘 버튼 커버 NC002', '11,781', 'https://www.ssg.com//item.ssgcdn.com/01/57/91/item/1000121915701_i1_232.jpg'], ['닌텐도 스위치 바디 스크린 프로텍터 필름 [W5D1E65]', '11,800', 'https://www.ssg.com//item.ssgcdn.com/01/57/91/item/1000121915701_i5_232.jpg'], ['닌텐도 스위치 바디 스크린 프로텍터 필름 [W5D1E65]', '11,800', 'https://www.ssg.com//item.ssgcdn.com/17/04/62/item/1000108620417_i1_232.jpg'], ['닌텐도 스위치 링 피트 어드밴처 한글판 패키지(한정수량)', '84,800', 'https://www.ssg.com//item.ssgcdn.com/17/04/62/item/1000108620417_i2_232.jpg'], ['[한정수량] 닌텐도 스위치 본체 HAD 네온블루+타이틀 패키지', '392,800', 'https://www.ssg.com//item.ssgcdn.com/28/51/24/item/1000106245128_i1_232.jpg'], ['[닌텐도 스위치] 마리오테니스 ACE(한글화)', '56,810', 'https://www.ssg.com//item.ssgcdn.com/28/51/24/item/1000106245128_i2_232.jpg'], ['닌텐도 스위치 본체 동물의숲 산리오 아미보 패키지 선택', '360,000', 'https://www.ssg.com//item.ssgcdn.com/53/71/62/item/1000067627153_i1_232.jpg'], ['닌텐도 스위치 링피트어드벤처 (200027700)', '76,320', 'https://www.ssg.com//item.ssgcdn.com/53/71/62/item/1000067627153_i5_232.jpg'], ['닌텐도 스위치 젤다의 전설 브레스 오브 더 와일드 한글판', '66,740', 'https://www.ssg.com//item.ssgcdn.com/02/56/98/item/1000067985602_i1_232.jpg'], ['닌텐도 스위치 동물의 숲 에디션 본체(배터리개선)+악세사리 10개 풀세트 [5%쿠폰가 378,100원]', '378,100', 'https://www.ssg.com//item.ssgcdn.com/02/56/98/item/1000067985602_i5_232.jpg']]\n"
     ]
    }
   ],
   "source": [
    "while True:\n",
    "    # HTML 코드 받아오기\n",
    "    response = requests.get(\"http://www.ssg.com/search.ssg?target=all&query=nintendo&page=\" + str(page_num), headers=headers)\n",
    "    \n",
    "    # BeautifulSoup 타입으로 변형하기\n",
    "    soup = BeautifulSoup(response.text, 'html.parser')\n",
    "    \n",
    "     # \"prodName\" 클래스가 있을 때만 상품 정보 가져오기\n",
    "    if len(soup.select('.csrch_tip')) == 0:\n",
    "        product_names = soup.select('.cunit_info > div.cunit_md.notranslate > div > a > em.tx_ko')\n",
    "        product_prices = soup.select('.cunit_info > div.cunit_price.notranslate > div.opt_price > em')\n",
    "        product_urls = soup.select('.cunit_prod > div.thmb > a > img')\n",
    "        page_num += 1\n",
    "        time.sleep(3)\n",
    "        \n",
    "        # 상품의 정보를 하나의 레코드로 만들고, 리스트에 순서대로 추가하기\n",
    "        for i in range(len(product_names)):\n",
    "            record = []\n",
    "            record.append(product_names[i].text)\n",
    "            record.append(product_prices[i].text.strip())\n",
    "            record.append(\"https://www.ssg.com\" + product_urls[i].get('src'))\n",
    "            records.append(record)\n",
    "    else:\n",
    "        break\n",
    "\n",
    "# 결과 출력\n",
    "print(len(records))\n",
    "print(records)\n",
    "        "
   ]
  },
  {
   "cell_type": "code",
   "execution_count": 10,
   "id": "78db6230",
   "metadata": {},
   "outputs": [],
   "source": [
    "df = pd.DataFrame(data = records, columns = [\"이름\", \"가격\", \"이미지 주소\"])"
   ]
  },
  {
   "cell_type": "code",
   "execution_count": 11,
   "id": "92217d3b",
   "metadata": {},
   "outputs": [
    {
     "data": {
      "text/html": [
       "<div>\n",
       "<style scoped>\n",
       "    .dataframe tbody tr th:only-of-type {\n",
       "        vertical-align: middle;\n",
       "    }\n",
       "\n",
       "    .dataframe tbody tr th {\n",
       "        vertical-align: top;\n",
       "    }\n",
       "\n",
       "    .dataframe thead th {\n",
       "        text-align: right;\n",
       "    }\n",
       "</style>\n",
       "<table border=\"1\" class=\"dataframe\">\n",
       "  <thead>\n",
       "    <tr style=\"text-align: right;\">\n",
       "      <th></th>\n",
       "      <th>이름</th>\n",
       "      <th>가격</th>\n",
       "      <th>이미지 주소</th>\n",
       "    </tr>\n",
       "  </thead>\n",
       "  <tbody>\n",
       "    <tr>\n",
       "      <th>0</th>\n",
       "      <td>닌텐도 스위치 게임팩케이스 4in1</td>\n",
       "      <td>7,510</td>\n",
       "      <td>https://www.ssg.com//item.ssgcdn.com/20/97/62/...</td>\n",
       "    </tr>\n",
       "    <tr>\n",
       "      <th>1</th>\n",
       "      <td>Coms 닌텐도 DS Lite USB 충전케이블 1.2m Coms 닌텐도 DS Li...</td>\n",
       "      <td>7,590</td>\n",
       "      <td>https://www.ssg.com//item.ssgcdn.com/20/97/62/...</td>\n",
       "    </tr>\n",
       "    <tr>\n",
       "      <th>2</th>\n",
       "      <td>갤럭시탭 닌텐도스위치 거치대 각도조절 스탠드</td>\n",
       "      <td>7,625</td>\n",
       "      <td>https://www.ssg.com//item.ssgcdn.com/46/42/89/...</td>\n",
       "    </tr>\n",
       "    <tr>\n",
       "      <th>3</th>\n",
       "      <td>갤럭시탭 닌텐도스위치 거치대 각도조절 스탠드</td>\n",
       "      <td>7,670</td>\n",
       "      <td>https://www.ssg.com//item.ssgcdn.com/46/42/89/...</td>\n",
       "    </tr>\n",
       "    <tr>\n",
       "      <th>4</th>\n",
       "      <td>조이콘스트랩 bob 닌텐도 스위치 조이콘 전용 손목 스트랩 홀더 빠른배송</td>\n",
       "      <td>7,750</td>\n",
       "      <td>https://www.ssg.com//item.ssgcdn.com/28/42/57/...</td>\n",
       "    </tr>\n",
       "  </tbody>\n",
       "</table>\n",
       "</div>"
      ],
      "text/plain": [
       "                                                  이름     가격  \\\n",
       "0                                닌텐도 스위치 게임팩케이스 4in1  7,510   \n",
       "1  Coms 닌텐도 DS Lite USB 충전케이블 1.2m Coms 닌텐도 DS Li...  7,590   \n",
       "2                           갤럭시탭 닌텐도스위치 거치대 각도조절 스탠드  7,625   \n",
       "3                           갤럭시탭 닌텐도스위치 거치대 각도조절 스탠드  7,670   \n",
       "4           조이콘스트랩 bob 닌텐도 스위치 조이콘 전용 손목 스트랩 홀더 빠른배송  7,750   \n",
       "\n",
       "                                              이미지 주소  \n",
       "0  https://www.ssg.com//item.ssgcdn.com/20/97/62/...  \n",
       "1  https://www.ssg.com//item.ssgcdn.com/20/97/62/...  \n",
       "2  https://www.ssg.com//item.ssgcdn.com/46/42/89/...  \n",
       "3  https://www.ssg.com//item.ssgcdn.com/46/42/89/...  \n",
       "4  https://www.ssg.com//item.ssgcdn.com/28/42/57/...  "
      ]
     },
     "execution_count": 11,
     "metadata": {},
     "output_type": "execute_result"
    }
   ],
   "source": [
    "df.head()"
   ]
  },
  {
   "cell_type": "code",
   "execution_count": null,
   "id": "106eaa98",
   "metadata": {},
   "outputs": [],
   "source": []
  }
 ],
 "metadata": {
  "kernelspec": {
   "display_name": "Python 3",
   "language": "python",
   "name": "python3"
  },
  "language_info": {
   "codemirror_mode": {
    "name": "ipython",
    "version": 3
   },
   "file_extension": ".py",
   "mimetype": "text/x-python",
   "name": "python",
   "nbconvert_exporter": "python",
   "pygments_lexer": "ipython3",
   "version": "3.8.8"
  }
 },
 "nbformat": 4,
 "nbformat_minor": 5
}
