{
 "cells": [
  {
   "cell_type": "code",
   "execution_count": 2,
   "id": "024144e9",
   "metadata": {},
   "outputs": [],
   "source": [
    "import time\n",
    "import requests\n",
    "from bs4 import BeautifulSoup"
   ]
  },
  {
   "cell_type": "code",
   "execution_count": 3,
   "id": "f7b5b0b2",
   "metadata": {},
   "outputs": [],
   "source": [
    "# 빈리스트 생성\n",
    "pages = []"
   ]
  },
  {
   "cell_type": "code",
   "execution_count": 4,
   "id": "5df1fac9",
   "metadata": {},
   "outputs": [],
   "source": [
    "# 첫 페이지 번호 지정\n",
    "page_num = 1"
   ]
  },
  {
   "cell_type": "code",
   "execution_count": null,
   "id": "0c733c95",
   "metadata": {},
   "outputs": [],
   "source": [
    "while True:\n",
    "    # HTML 코드 받아오기, 위에서 지정해 준 headers 설정해 주기\n",
    "    response = requests.get(\"http://www.ssg.com/search.ssg?target=all&query=nintendo&page=\" + str(page_num)\n",
    "\n",
    "    # BeautifulSoup 타입으로 변환하기\n",
    "    soup = BeautifulSoup(response.text, 'html.parser')\n",
    "\n",
    "    # \".csrch_tip\" 클래스가 없을 때만 HTML 코드를 리스트에 담기\n",
    "    if len(soup.select('.csrch_tip')) == 0:\n",
    "        pages.append(soup)\n",
    "        print(str(page_num) + \"번째 페이지 가져오기 완료\")\n",
    "        page_num += 1\n",
    "        time.sleep(3)\n",
    "    else:\n",
    "        break\n",
    "\n",
    "# 가져온 페이지 개수 출력하기\n",
    "print(len(pages))"
   ]
  },
  {
   "cell_type": "code",
   "execution_count": null,
   "id": "96e90c5e",
   "metadata": {},
   "outputs": [],
   "source": []
  }
 ],
 "metadata": {
  "kernelspec": {
   "display_name": "Python 3",
   "language": "python",
   "name": "python3"
  },
  "language_info": {
   "codemirror_mode": {
    "name": "ipython",
    "version": 3
   },
   "file_extension": ".py",
   "mimetype": "text/x-python",
   "name": "python",
   "nbconvert_exporter": "python",
   "pygments_lexer": "ipython3",
   "version": "3.8.8"
  }
 },
 "nbformat": 4,
 "nbformat_minor": 5
}
