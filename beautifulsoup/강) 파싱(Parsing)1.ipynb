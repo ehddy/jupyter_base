{
 "cells": [
  {
   "cell_type": "code",
   "execution_count": 1,
   "id": "2b235674",
   "metadata": {},
   "outputs": [],
   "source": [
    "html_code = \"\"\"<!DOCTYPE html>\n",
    "<html>\n",
    "<head>\n",
    "    <title>Sample Website</title>\n",
    "</head>\n",
    "<body>\n",
    "<h2>HTML 연습!</h2>\n",
    "\n",
    "<p>이것은 첫 번째 문단입니다.</p>\n",
    "<p>이것은 두 번째 문단입니다!</p>\n",
    "\n",
    "<ul>\n",
    "    <li>커피</li>\n",
    "    <li>녹차</li>\n",
    "    <li>우유</li>\n",
    "</ul>\n",
    "\n",
    "<img src='https://i.imgur.com/bY0l0PC.jpg' alt=\"coffee\"/>\n",
    "<img src='https://i.imgur.com/fvJLWdV.jpg' alt=\"green-tea\"/>\n",
    "<img src='https://i.imgur.com/rNOIbNt.jpg' alt=\"milk\"/>\n",
    "\n",
    "</body>\n",
    "</html>\"\"\""
   ]
  },
  {
   "cell_type": "code",
   "execution_count": 2,
   "id": "73a50106",
   "metadata": {},
   "outputs": [],
   "source": [
    "from bs4 import BeautifulSoup"
   ]
  },
  {
   "cell_type": "code",
   "execution_count": 3,
   "id": "ad801a89",
   "metadata": {},
   "outputs": [],
   "source": [
    "soup = BeautifulSoup(html_code, 'html.parser')"
   ]
  },
  {
   "cell_type": "code",
   "execution_count": 4,
   "id": "c22b771e",
   "metadata": {},
   "outputs": [
    {
     "data": {
      "text/plain": [
       "bs4.BeautifulSoup"
      ]
     },
     "execution_count": 4,
     "metadata": {},
     "output_type": "execute_result"
    }
   ],
   "source": [
    "type(soup)"
   ]
  },
  {
   "cell_type": "code",
   "execution_count": 7,
   "id": "16443312",
   "metadata": {},
   "outputs": [
    {
     "data": {
      "text/plain": [
       "[<li>커피</li>, <li>녹차</li>, <li>우유</li>]"
      ]
     },
     "execution_count": 7,
     "metadata": {},
     "output_type": "execute_result"
    }
   ],
   "source": [
    "# 모든 <li> 태그 선택하기 \n",
    "li_tags = soup.select('li')\n",
    "li_tags"
   ]
  },
  {
   "cell_type": "code",
   "execution_count": 8,
   "id": "3e0480c3",
   "metadata": {},
   "outputs": [
    {
     "name": "stdout",
     "output_type": "stream",
     "text": [
      "<li>커피</li>\n"
     ]
    }
   ],
   "source": [
    "# 첫 번째 <li> 태그 출력하기\n",
    "print(li_tags[0])"
   ]
  },
  {
   "cell_type": "code",
   "execution_count": 9,
   "id": "35a8242f",
   "metadata": {},
   "outputs": [
    {
     "name": "stdout",
     "output_type": "stream",
     "text": [
      "<class 'bs4.element.Tag'>\n"
     ]
    }
   ],
   "source": [
    "print(type(li_tags[0]))"
   ]
  },
  {
   "cell_type": "code",
   "execution_count": 10,
   "id": "a96c76d1",
   "metadata": {},
   "outputs": [
    {
     "name": "stdout",
     "output_type": "stream",
     "text": [
      "커피\n"
     ]
    }
   ],
   "source": [
    "# 첫 번째 <li> 태그의 텍스트 출력하기\n",
    "print(li_tags[0].text)"
   ]
  },
  {
   "cell_type": "code",
   "execution_count": 11,
   "id": "da294c1c",
   "metadata": {},
   "outputs": [],
   "source": [
    "# 빈리스트 만들기 \n",
    "beverage_name = []"
   ]
  },
  {
   "cell_type": "code",
   "execution_count": 12,
   "id": "f5932db1",
   "metadata": {},
   "outputs": [],
   "source": [
    "for li in li_tags:\n",
    "    beverage_name.append(li.text)"
   ]
  },
  {
   "cell_type": "code",
   "execution_count": 13,
   "id": "759c2b0e",
   "metadata": {},
   "outputs": [
    {
     "name": "stdout",
     "output_type": "stream",
     "text": [
      "['커피', '녹차', '우유']\n"
     ]
    }
   ],
   "source": [
    "print(beverage_name)"
   ]
  },
  {
   "cell_type": "code",
   "execution_count": 14,
   "id": "14ba6dc0",
   "metadata": {},
   "outputs": [
    {
     "name": "stdout",
     "output_type": "stream",
     "text": [
      "[<img alt=\"coffee\" src=\"https://i.imgur.com/bY0l0PC.jpg\"/>, <img alt=\"green-tea\" src=\"https://i.imgur.com/fvJLWdV.jpg\"/>, <img alt=\"milk\" src=\"https://i.imgur.com/rNOIbNt.jpg\"/>]\n"
     ]
    }
   ],
   "source": [
    "# 모든 <img> 태그 선택하기 \n",
    "img_tags = soup.select('img')\n",
    "print(img_tags)"
   ]
  },
  {
   "cell_type": "code",
   "execution_count": 15,
   "id": "3ff2d164",
   "metadata": {},
   "outputs": [
    {
     "name": "stdout",
     "output_type": "stream",
     "text": [
      "<img alt=\"coffee\" src=\"https://i.imgur.com/bY0l0PC.jpg\"/>\n"
     ]
    }
   ],
   "source": [
    "print(img_tags[0])"
   ]
  },
  {
   "cell_type": "code",
   "execution_count": 16,
   "id": "1b413ca4",
   "metadata": {},
   "outputs": [
    {
     "name": "stdout",
     "output_type": "stream",
     "text": [
      "https://i.imgur.com/bY0l0PC.jpg\n"
     ]
    }
   ],
   "source": [
    "print(img_tags[0][\"src\"])"
   ]
  },
  {
   "cell_type": "code",
   "execution_count": 19,
   "id": "7c983b78",
   "metadata": {},
   "outputs": [],
   "source": [
    "img_srcs = []\n",
    "# 이미지 주소 추출해서 리스트에 담기\n",
    "for img in img_tags:\n",
    "    img_srcs.append(img[\"src\"])"
   ]
  },
  {
   "cell_type": "code",
   "execution_count": 20,
   "id": "667a7f59",
   "metadata": {},
   "outputs": [
    {
     "name": "stdout",
     "output_type": "stream",
     "text": [
      "['https://i.imgur.com/bY0l0PC.jpg', 'https://i.imgur.com/fvJLWdV.jpg', 'https://i.imgur.com/rNOIbNt.jpg']\n"
     ]
    }
   ],
   "source": [
    "print(img_srcs)"
   ]
  },
  {
   "cell_type": "code",
   "execution_count": null,
   "id": "612b08df",
   "metadata": {},
   "outputs": [],
   "source": []
  }
 ],
 "metadata": {
  "kernelspec": {
   "display_name": "Python 3",
   "language": "python",
   "name": "python3"
  },
  "language_info": {
   "codemirror_mode": {
    "name": "ipython",
    "version": 3
   },
   "file_extension": ".py",
   "mimetype": "text/x-python",
   "name": "python",
   "nbconvert_exporter": "python",
   "pygments_lexer": "ipython3",
   "version": "3.8.8"
  }
 },
 "nbformat": 4,
 "nbformat_minor": 5
}
